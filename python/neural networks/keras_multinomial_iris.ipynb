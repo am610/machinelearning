{
 "cells": [
  {
   "cell_type": "code",
   "execution_count": 1,
   "source": [
    "import tensorflow as tf\n",
    "from tensorflow.keras import layers\n",
    "import pandas as pd\n",
    "import numpy as np\n",
    "from tensorflow.keras import datasets, layers, models\n",
    "from tensorflow.keras.utils import to_categorical"
   ],
   "outputs": [],
   "metadata": {}
  },
  {
   "cell_type": "code",
   "execution_count": 2,
   "source": [
    "dataFolder = 'data/'\n",
    "dataFile = dataFolder + \"iris.csv\"\n",
    "print(dataFile)"
   ],
   "outputs": [
    {
     "output_type": "stream",
     "name": "stdout",
     "text": [
      "data/iris.csv\n"
     ]
    }
   ],
   "metadata": {}
  },
  {
   "cell_type": "code",
   "execution_count": 3,
   "source": [
    "df = pd.read_csv(dataFile)\n",
    "df.head()"
   ],
   "outputs": [
    {
     "output_type": "execute_result",
     "data": {
      "text/plain": [
       "   sepal length (cm)  sepal width (cm)  petal length (cm)  petal width (cm)  \\\n",
       "0                5.1               3.5                1.4               0.2   \n",
       "1                4.9               3.0                1.4               0.2   \n",
       "2                4.7               3.2                1.3               0.2   \n",
       "3                4.6               3.1                1.5               0.2   \n",
       "4                5.0               3.6                1.4               0.2   \n",
       "\n",
       "       species  \n",
       "0  Iris-setosa  \n",
       "1  Iris-setosa  \n",
       "2  Iris-setosa  \n",
       "3  Iris-setosa  \n",
       "4  Iris-setosa  "
      ],
      "text/html": [
       "<div>\n",
       "<style scoped>\n",
       "    .dataframe tbody tr th:only-of-type {\n",
       "        vertical-align: middle;\n",
       "    }\n",
       "\n",
       "    .dataframe tbody tr th {\n",
       "        vertical-align: top;\n",
       "    }\n",
       "\n",
       "    .dataframe thead th {\n",
       "        text-align: right;\n",
       "    }\n",
       "</style>\n",
       "<table border=\"1\" class=\"dataframe\">\n",
       "  <thead>\n",
       "    <tr style=\"text-align: right;\">\n",
       "      <th></th>\n",
       "      <th>sepal length (cm)</th>\n",
       "      <th>sepal width (cm)</th>\n",
       "      <th>petal length (cm)</th>\n",
       "      <th>petal width (cm)</th>\n",
       "      <th>species</th>\n",
       "    </tr>\n",
       "  </thead>\n",
       "  <tbody>\n",
       "    <tr>\n",
       "      <th>0</th>\n",
       "      <td>5.1</td>\n",
       "      <td>3.5</td>\n",
       "      <td>1.4</td>\n",
       "      <td>0.2</td>\n",
       "      <td>Iris-setosa</td>\n",
       "    </tr>\n",
       "    <tr>\n",
       "      <th>1</th>\n",
       "      <td>4.9</td>\n",
       "      <td>3.0</td>\n",
       "      <td>1.4</td>\n",
       "      <td>0.2</td>\n",
       "      <td>Iris-setosa</td>\n",
       "    </tr>\n",
       "    <tr>\n",
       "      <th>2</th>\n",
       "      <td>4.7</td>\n",
       "      <td>3.2</td>\n",
       "      <td>1.3</td>\n",
       "      <td>0.2</td>\n",
       "      <td>Iris-setosa</td>\n",
       "    </tr>\n",
       "    <tr>\n",
       "      <th>3</th>\n",
       "      <td>4.6</td>\n",
       "      <td>3.1</td>\n",
       "      <td>1.5</td>\n",
       "      <td>0.2</td>\n",
       "      <td>Iris-setosa</td>\n",
       "    </tr>\n",
       "    <tr>\n",
       "      <th>4</th>\n",
       "      <td>5.0</td>\n",
       "      <td>3.6</td>\n",
       "      <td>1.4</td>\n",
       "      <td>0.2</td>\n",
       "      <td>Iris-setosa</td>\n",
       "    </tr>\n",
       "  </tbody>\n",
       "</table>\n",
       "</div>"
      ]
     },
     "metadata": {},
     "execution_count": 3
    }
   ],
   "metadata": {}
  },
  {
   "cell_type": "code",
   "execution_count": 4,
   "source": [
    "X = df.iloc[:,0:3].values\n",
    "y = df.iloc[:,4].values"
   ],
   "outputs": [],
   "metadata": {}
  },
  {
   "cell_type": "code",
   "execution_count": 5,
   "source": [
    "print(X[0:5])\n",
    "print(y[0:5])"
   ],
   "outputs": [
    {
     "output_type": "stream",
     "name": "stdout",
     "text": [
      "[[5.1 3.5 1.4]\n",
      " [4.9 3.  1.4]\n",
      " [4.7 3.2 1.3]\n",
      " [4.6 3.1 1.5]\n",
      " [5.  3.6 1.4]]\n",
      "['Iris-setosa' 'Iris-setosa' 'Iris-setosa' 'Iris-setosa' 'Iris-setosa']\n"
     ]
    }
   ],
   "metadata": {}
  },
  {
   "cell_type": "code",
   "execution_count": 6,
   "source": [
    "print(X.shape)\n",
    "print(y.shape)"
   ],
   "outputs": [
    {
     "output_type": "stream",
     "name": "stdout",
     "text": [
      "(150, 3)\n",
      "(150,)\n"
     ]
    }
   ],
   "metadata": {}
  },
  {
   "cell_type": "code",
   "execution_count": 7,
   "source": [
    "from sklearn.preprocessing import LabelEncoder\n",
    "encoder =  LabelEncoder()\n",
    "y1 = encoder.fit_transform(y)"
   ],
   "outputs": [],
   "metadata": {}
  },
  {
   "cell_type": "code",
   "execution_count": 8,
   "source": [
    "print(y1)"
   ],
   "outputs": [
    {
     "output_type": "stream",
     "name": "stdout",
     "text": [
      "[0 0 0 0 0 0 0 0 0 0 0 0 0 0 0 0 0 0 0 0 0 0 0 0 0 0 0 0 0 0 0 0 0 0 0 0 0\n",
      " 0 0 0 0 0 0 0 0 0 0 0 0 0 1 1 1 1 1 1 1 1 1 1 1 1 1 1 1 1 1 1 1 1 1 1 1 1\n",
      " 1 1 1 1 1 1 1 1 1 1 1 1 1 1 1 1 1 1 1 1 1 1 1 1 1 1 2 2 2 2 2 2 2 2 2 2 2\n",
      " 2 2 2 2 2 2 2 2 2 2 2 2 2 2 2 2 2 2 2 2 2 2 2 2 2 2 2 2 2 2 2 2 2 2 2 2 2\n",
      " 2 2]\n"
     ]
    }
   ],
   "metadata": {}
  },
  {
   "cell_type": "code",
   "execution_count": 9,
   "source": [
    "Y = pd.get_dummies(y1).values\n",
    "print(Y[0:5])"
   ],
   "outputs": [
    {
     "output_type": "stream",
     "name": "stdout",
     "text": [
      "[[1 0 0]\n",
      " [1 0 0]\n",
      " [1 0 0]\n",
      " [1 0 0]\n",
      " [1 0 0]]\n"
     ]
    }
   ],
   "metadata": {}
  },
  {
   "cell_type": "code",
   "execution_count": 10,
   "source": [
    "from sklearn.model_selection import train_test_split\n",
    "X_train, X_test, y_train, y_test = train_test_split(X, Y, test_size=0.2, random_state=0)\n",
    "print(X_train[0:5])"
   ],
   "outputs": [
    {
     "output_type": "stream",
     "name": "stdout",
     "text": [
      "[[6.4 3.1 5.5]\n",
      " [5.4 3.  4.5]\n",
      " [5.2 3.5 1.5]\n",
      " [6.1 3.  4.9]\n",
      " [6.4 2.8 5.6]]\n"
     ]
    }
   ],
   "metadata": {}
  },
  {
   "cell_type": "code",
   "execution_count": 11,
   "source": [
    "print(y_train[0:5])\n",
    "print(X_test[0:5])\n",
    "print(y_test[0:5])"
   ],
   "outputs": [
    {
     "output_type": "stream",
     "name": "stdout",
     "text": [
      "[[0 0 1]\n",
      " [0 1 0]\n",
      " [1 0 0]\n",
      " [0 0 1]\n",
      " [0 0 1]]\n",
      "[[5.8 2.8 5.1]\n",
      " [6.  2.2 4. ]\n",
      " [5.5 4.2 1.4]\n",
      " [7.3 2.9 6.3]\n",
      " [5.  3.4 1.5]]\n",
      "[[0 0 1]\n",
      " [0 1 0]\n",
      " [1 0 0]\n",
      " [0 0 1]\n",
      " [1 0 0]]\n"
     ]
    }
   ],
   "metadata": {}
  },
  {
   "cell_type": "code",
   "execution_count": 12,
   "source": [
    "model = tf.keras.Sequential([\n",
    "    tf.keras.layers.Dense(10, activation='relu'),\n",
    "    tf.keras.layers.Dense(10, activation='relu'),\n",
    "    tf.keras.layers.Dense(3)\n",
    "  ])\n",
    "model\n",
    "\n",
    "model.compile(optimizer='rmsprop',\n",
    "              loss='categorical_crossentropy',\n",
    "              metrics=['accuracy'])\n",
    "\n",
    "model.fit(X_train, y_train, batch_size=50, epochs=100)        "
   ],
   "outputs": [
    {
     "output_type": "stream",
     "name": "stderr",
     "text": [
      "2021-08-22 08:41:46.257865: I tensorflow/core/platform/cpu_feature_guard.cc:142] This TensorFlow binary is optimized with oneAPI Deep Neural Network Library (oneDNN) to use the following CPU instructions in performance-critical operations:  AVX2 FMA\n",
      "To enable them in other operations, rebuild TensorFlow with the appropriate compiler flags.\n",
      "2021-08-22 08:41:46.371302: I tensorflow/compiler/mlir/mlir_graph_optimization_pass.cc:185] None of the MLIR Optimization Passes are enabled (registered 2)\n"
     ]
    },
    {
     "output_type": "stream",
     "name": "stdout",
     "text": [
      "Epoch 1/100\n",
      "3/3 [==============================] - 1s 2ms/step - loss: 6.3014 - accuracy: 0.3667\n",
      "Epoch 2/100\n",
      "3/3 [==============================] - 0s 2ms/step - loss: 6.1762 - accuracy: 0.3667\n",
      "Epoch 3/100\n",
      "3/3 [==============================] - 0s 2ms/step - loss: 6.1021 - accuracy: 0.3667\n",
      "Epoch 4/100\n",
      "3/3 [==============================] - 0s 1ms/step - loss: 6.0333 - accuracy: 0.3667\n",
      "Epoch 5/100\n",
      "3/3 [==============================] - 0s 2ms/step - loss: 5.9570 - accuracy: 0.3667\n",
      "Epoch 6/100\n",
      "3/3 [==============================] - 0s 2ms/step - loss: 5.9115 - accuracy: 0.3667\n",
      "Epoch 7/100\n",
      "3/3 [==============================] - 0s 3ms/step - loss: 5.9101 - accuracy: 0.3667\n",
      "Epoch 8/100\n",
      "3/3 [==============================] - 0s 2ms/step - loss: 5.9101 - accuracy: 0.3667\n",
      "Epoch 9/100\n",
      "3/3 [==============================] - 0s 3ms/step - loss: 5.9100 - accuracy: 0.3667\n",
      "Epoch 10/100\n",
      "3/3 [==============================] - 0s 2ms/step - loss: 5.9100 - accuracy: 0.3667\n",
      "Epoch 11/100\n",
      "3/3 [==============================] - 0s 2ms/step - loss: 5.9100 - accuracy: 0.3667\n",
      "Epoch 12/100\n",
      "3/3 [==============================] - 0s 2ms/step - loss: 5.9100 - accuracy: 0.3667\n",
      "Epoch 13/100\n",
      "3/3 [==============================] - 0s 6ms/step - loss: 5.9100 - accuracy: 0.3667\n",
      "Epoch 14/100\n",
      "3/3 [==============================] - 0s 3ms/step - loss: 5.9100 - accuracy: 0.3667\n",
      "Epoch 15/100\n",
      "3/3 [==============================] - 0s 2ms/step - loss: 5.9100 - accuracy: 0.3667\n",
      "Epoch 16/100\n",
      "3/3 [==============================] - 0s 2ms/step - loss: 5.9100 - accuracy: 0.3667\n",
      "Epoch 17/100\n",
      "3/3 [==============================] - 0s 3ms/step - loss: 5.9100 - accuracy: 0.3667\n",
      "Epoch 18/100\n",
      "3/3 [==============================] - 0s 4ms/step - loss: 5.9100 - accuracy: 0.3667\n",
      "Epoch 19/100\n",
      "3/3 [==============================] - 0s 2ms/step - loss: 5.9100 - accuracy: 0.3667\n",
      "Epoch 20/100\n",
      "3/3 [==============================] - 0s 2ms/step - loss: 5.9100 - accuracy: 0.3667\n",
      "Epoch 21/100\n",
      "3/3 [==============================] - 0s 2ms/step - loss: 5.9100 - accuracy: 0.3667\n",
      "Epoch 22/100\n",
      "3/3 [==============================] - 0s 2ms/step - loss: 5.9100 - accuracy: 0.3667\n",
      "Epoch 23/100\n",
      "3/3 [==============================] - 0s 2ms/step - loss: 5.9100 - accuracy: 0.3667\n",
      "Epoch 24/100\n",
      "3/3 [==============================] - 0s 3ms/step - loss: 5.9100 - accuracy: 0.3667\n",
      "Epoch 25/100\n",
      "3/3 [==============================] - 0s 2ms/step - loss: 5.9100 - accuracy: 0.3667\n",
      "Epoch 26/100\n",
      "3/3 [==============================] - 0s 3ms/step - loss: 5.9100 - accuracy: 0.3667\n",
      "Epoch 27/100\n",
      "3/3 [==============================] - 0s 3ms/step - loss: 5.9100 - accuracy: 0.3667\n",
      "Epoch 28/100\n",
      "3/3 [==============================] - 0s 2ms/step - loss: 5.9100 - accuracy: 0.3667\n",
      "Epoch 29/100\n",
      "3/3 [==============================] - 0s 2ms/step - loss: 5.9100 - accuracy: 0.3667\n",
      "Epoch 30/100\n",
      "3/3 [==============================] - 0s 2ms/step - loss: 5.9100 - accuracy: 0.3667\n",
      "Epoch 31/100\n",
      "3/3 [==============================] - 0s 2ms/step - loss: 5.9100 - accuracy: 0.3667\n",
      "Epoch 32/100\n",
      "3/3 [==============================] - 0s 2ms/step - loss: 5.9100 - accuracy: 0.3667\n",
      "Epoch 33/100\n",
      "3/3 [==============================] - 0s 3ms/step - loss: 5.9100 - accuracy: 0.3667\n",
      "Epoch 34/100\n",
      "3/3 [==============================] - 0s 2ms/step - loss: 5.9100 - accuracy: 0.3667\n",
      "Epoch 35/100\n",
      "3/3 [==============================] - 0s 2ms/step - loss: 5.9100 - accuracy: 0.3667\n",
      "Epoch 36/100\n",
      "3/3 [==============================] - 0s 2ms/step - loss: 5.9100 - accuracy: 0.3667\n",
      "Epoch 37/100\n",
      "3/3 [==============================] - 0s 3ms/step - loss: 5.9100 - accuracy: 0.3667\n",
      "Epoch 38/100\n",
      "3/3 [==============================] - 0s 2ms/step - loss: 5.9100 - accuracy: 0.3667\n",
      "Epoch 39/100\n",
      "3/3 [==============================] - 0s 2ms/step - loss: 5.9100 - accuracy: 0.3667\n",
      "Epoch 40/100\n",
      "3/3 [==============================] - 0s 2ms/step - loss: 5.9100 - accuracy: 0.3667\n",
      "Epoch 41/100\n",
      "3/3 [==============================] - 0s 2ms/step - loss: 5.9100 - accuracy: 0.3667\n",
      "Epoch 42/100\n",
      "3/3 [==============================] - 0s 2ms/step - loss: 5.9100 - accuracy: 0.3667\n",
      "Epoch 43/100\n",
      "3/3 [==============================] - 0s 3ms/step - loss: 5.9100 - accuracy: 0.3667\n",
      "Epoch 44/100\n",
      "3/3 [==============================] - 0s 2ms/step - loss: 5.9100 - accuracy: 0.3667\n",
      "Epoch 45/100\n",
      "3/3 [==============================] - 0s 2ms/step - loss: 5.9100 - accuracy: 0.3667\n",
      "Epoch 46/100\n",
      "3/3 [==============================] - 0s 2ms/step - loss: 5.9100 - accuracy: 0.3667\n",
      "Epoch 47/100\n",
      "3/3 [==============================] - 0s 2ms/step - loss: 5.9100 - accuracy: 0.3667\n",
      "Epoch 48/100\n",
      "3/3 [==============================] - 0s 2ms/step - loss: 5.9100 - accuracy: 0.3667\n",
      "Epoch 49/100\n",
      "3/3 [==============================] - 0s 2ms/step - loss: 5.9100 - accuracy: 0.3667\n",
      "Epoch 50/100\n",
      "3/3 [==============================] - 0s 2ms/step - loss: 5.9100 - accuracy: 0.3667\n",
      "Epoch 51/100\n",
      "3/3 [==============================] - 0s 2ms/step - loss: 5.9100 - accuracy: 0.3667\n",
      "Epoch 52/100\n",
      "3/3 [==============================] - 0s 2ms/step - loss: 5.9100 - accuracy: 0.3667\n",
      "Epoch 53/100\n",
      "3/3 [==============================] - 0s 2ms/step - loss: 5.9100 - accuracy: 0.3667\n",
      "Epoch 54/100\n",
      "3/3 [==============================] - 0s 1ms/step - loss: 5.9100 - accuracy: 0.3667\n",
      "Epoch 55/100\n",
      "3/3 [==============================] - 0s 2ms/step - loss: 5.9100 - accuracy: 0.3667\n",
      "Epoch 56/100\n",
      "3/3 [==============================] - 0s 2ms/step - loss: 5.9100 - accuracy: 0.3667\n",
      "Epoch 57/100\n",
      "3/3 [==============================] - 0s 2ms/step - loss: 5.9100 - accuracy: 0.3667\n",
      "Epoch 58/100\n",
      "3/3 [==============================] - 0s 1ms/step - loss: 5.9100 - accuracy: 0.3667\n",
      "Epoch 59/100\n",
      "3/3 [==============================] - 0s 2ms/step - loss: 5.9100 - accuracy: 0.3667\n",
      "Epoch 60/100\n",
      "3/3 [==============================] - 0s 1ms/step - loss: 5.9100 - accuracy: 0.3667\n",
      "Epoch 61/100\n",
      "3/3 [==============================] - 0s 2ms/step - loss: 5.9100 - accuracy: 0.3667\n",
      "Epoch 62/100\n",
      "3/3 [==============================] - 0s 2ms/step - loss: 5.9100 - accuracy: 0.3667\n",
      "Epoch 63/100\n",
      "3/3 [==============================] - 0s 2ms/step - loss: 5.9100 - accuracy: 0.3667\n",
      "Epoch 64/100\n",
      "3/3 [==============================] - 0s 2ms/step - loss: 5.9100 - accuracy: 0.3667\n",
      "Epoch 65/100\n",
      "3/3 [==============================] - 0s 2ms/step - loss: 5.9100 - accuracy: 0.3667\n",
      "Epoch 66/100\n",
      "3/3 [==============================] - 0s 1ms/step - loss: 5.9100 - accuracy: 0.3667\n",
      "Epoch 67/100\n",
      "3/3 [==============================] - 0s 1ms/step - loss: 5.9100 - accuracy: 0.3667\n",
      "Epoch 68/100\n",
      "3/3 [==============================] - 0s 2ms/step - loss: 5.9100 - accuracy: 0.3667\n",
      "Epoch 69/100\n",
      "3/3 [==============================] - 0s 2ms/step - loss: 5.9100 - accuracy: 0.3667\n",
      "Epoch 70/100\n",
      "3/3 [==============================] - 0s 1ms/step - loss: 5.9100 - accuracy: 0.3667\n",
      "Epoch 71/100\n",
      "3/3 [==============================] - 0s 2ms/step - loss: 5.9100 - accuracy: 0.3667\n",
      "Epoch 72/100\n",
      "3/3 [==============================] - 0s 2ms/step - loss: 5.9100 - accuracy: 0.3667\n",
      "Epoch 73/100\n",
      "3/3 [==============================] - 0s 2ms/step - loss: 5.9100 - accuracy: 0.3667\n",
      "Epoch 74/100\n",
      "3/3 [==============================] - 0s 1ms/step - loss: 5.9100 - accuracy: 0.3667\n",
      "Epoch 75/100\n",
      "3/3 [==============================] - 0s 2ms/step - loss: 5.9100 - accuracy: 0.3667\n",
      "Epoch 76/100\n",
      "3/3 [==============================] - 0s 2ms/step - loss: 5.9100 - accuracy: 0.3667\n",
      "Epoch 77/100\n",
      "3/3 [==============================] - 0s 2ms/step - loss: 5.9100 - accuracy: 0.3667\n",
      "Epoch 78/100\n",
      "3/3 [==============================] - 0s 1ms/step - loss: 5.9100 - accuracy: 0.3667\n",
      "Epoch 79/100\n",
      "3/3 [==============================] - 0s 2ms/step - loss: 5.9100 - accuracy: 0.3667\n",
      "Epoch 80/100\n",
      "3/3 [==============================] - 0s 2ms/step - loss: 5.9100 - accuracy: 0.3667\n",
      "Epoch 81/100\n",
      "3/3 [==============================] - 0s 1ms/step - loss: 5.9100 - accuracy: 0.3667\n",
      "Epoch 82/100\n",
      "3/3 [==============================] - 0s 2ms/step - loss: 5.9100 - accuracy: 0.3667\n",
      "Epoch 83/100\n",
      "3/3 [==============================] - 0s 2ms/step - loss: 5.9100 - accuracy: 0.3667\n",
      "Epoch 84/100\n",
      "3/3 [==============================] - 0s 2ms/step - loss: 5.9100 - accuracy: 0.3667\n",
      "Epoch 85/100\n",
      "3/3 [==============================] - 0s 1ms/step - loss: 5.9100 - accuracy: 0.3667\n",
      "Epoch 86/100\n",
      "3/3 [==============================] - 0s 2ms/step - loss: 5.9100 - accuracy: 0.3667\n",
      "Epoch 87/100\n",
      "3/3 [==============================] - 0s 2ms/step - loss: 5.9100 - accuracy: 0.3667\n",
      "Epoch 88/100\n",
      "3/3 [==============================] - 0s 2ms/step - loss: 5.9100 - accuracy: 0.3667\n",
      "Epoch 89/100\n",
      "3/3 [==============================] - 0s 2ms/step - loss: 5.9100 - accuracy: 0.3667\n",
      "Epoch 90/100\n",
      "3/3 [==============================] - 0s 1ms/step - loss: 5.9100 - accuracy: 0.3667\n",
      "Epoch 91/100\n",
      "3/3 [==============================] - 0s 2ms/step - loss: 5.9100 - accuracy: 0.3667\n",
      "Epoch 92/100\n",
      "3/3 [==============================] - 0s 3ms/step - loss: 5.9100 - accuracy: 0.3667\n",
      "Epoch 93/100\n",
      "3/3 [==============================] - 0s 1ms/step - loss: 5.9100 - accuracy: 0.3667\n",
      "Epoch 94/100\n",
      "3/3 [==============================] - 0s 1ms/step - loss: 5.9100 - accuracy: 0.3667\n",
      "Epoch 95/100\n",
      "3/3 [==============================] - 0s 2ms/step - loss: 5.9100 - accuracy: 0.3667\n",
      "Epoch 96/100\n",
      "3/3 [==============================] - 0s 2ms/step - loss: 5.9100 - accuracy: 0.3667\n",
      "Epoch 97/100\n",
      "3/3 [==============================] - 0s 2ms/step - loss: 5.9100 - accuracy: 0.3667\n",
      "Epoch 98/100\n",
      "3/3 [==============================] - 0s 2ms/step - loss: 5.9100 - accuracy: 0.3667\n",
      "Epoch 99/100\n",
      "3/3 [==============================] - 0s 1ms/step - loss: 5.9100 - accuracy: 0.3667\n",
      "Epoch 100/100\n",
      "3/3 [==============================] - 0s 1ms/step - loss: 5.9100 - accuracy: 0.3667\n"
     ]
    },
    {
     "output_type": "execute_result",
     "data": {
      "text/plain": [
       "<keras.callbacks.History at 0x7fd834628af0>"
      ]
     },
     "metadata": {},
     "execution_count": 12
    }
   ],
   "metadata": {}
  },
  {
   "cell_type": "code",
   "execution_count": 13,
   "source": [
    "loss, accuracy = model.evaluate(X_test, y_test, verbose=0)\n",
    "print('Test loss:', loss)\n",
    "print('Test accuracy:', accuracy)"
   ],
   "outputs": [
    {
     "output_type": "stream",
     "name": "stdout",
     "text": [
      "Test loss: 3.2239091396331787\n",
      "Test accuracy: 0.20000000298023224\n"
     ]
    }
   ],
   "metadata": {}
  },
  {
   "cell_type": "code",
   "execution_count": 14,
   "source": [
    "y_pred = model.predict(X_test)\n",
    "y_pred"
   ],
   "outputs": [
    {
     "output_type": "execute_result",
     "data": {
      "text/plain": [
       "array([[-1.4091141, -3.268493 ,  2.4518342],\n",
       "       [-1.2899247, -2.9220471,  2.3113172],\n",
       "       [-1.7839977, -2.1338558,  2.2152898],\n",
       "       [-1.684777 , -4.155386 ,  3.0112975],\n",
       "       [-1.4887946, -1.8080134,  1.9768999],\n",
       "       [-1.5442951, -3.7222362,  2.7054133],\n",
       "       [-1.5273447, -1.8018569,  1.9835317],\n",
       "       [-1.5296817, -3.2828677,  2.65283  ],\n",
       "       [-1.5114105, -3.391662 ,  2.6697526],\n",
       "       [-1.3750862, -2.8672726,  2.3813586],\n",
       "       [-1.4452887, -3.5887206,  2.5757718],\n",
       "       [-1.4933176, -3.106698 ,  2.556377 ],\n",
       "       [-1.4231341, -3.1707094,  2.4779372],\n",
       "       [-1.4627913, -3.2288494,  2.5658653],\n",
       "       [-1.4353893, -3.1573515,  2.4853723],\n",
       "       [-1.3874085, -1.677816 ,  1.911663 ],\n",
       "       [-1.4100308, -3.0452833,  2.4323473],\n",
       "       [-1.3082498, -2.9151487,  2.269089 ],\n",
       "       [-1.3514986, -1.608954 ,  1.8679643],\n",
       "       [-1.6864871, -1.9791098,  2.1472952],\n",
       "       [-1.3712455, -3.1311202,  2.3727098],\n",
       "       [-1.375765 , -2.9304378,  2.3380578],\n",
       "       [-1.4553223, -1.9034669,  1.930345 ],\n",
       "       [-1.2847557, -1.5605266,  1.7406437],\n",
       "       [-1.441628 , -3.2394295,  2.5171652],\n",
       "       [-1.5338278, -1.7656658,  1.8722324],\n",
       "       [-1.605479 , -2.0793486,  2.065316 ],\n",
       "       [-1.419564 , -3.0093312,  2.4556165],\n",
       "       [-1.1378284, -2.3515325,  1.9678614],\n",
       "       [-1.4849191, -1.8325624,  1.9796574]], dtype=float32)"
      ]
     },
     "metadata": {},
     "execution_count": 14
    }
   ],
   "metadata": {}
  },
  {
   "cell_type": "code",
   "execution_count": 17,
   "source": [
    "actual = np.argmax(y_test,axis=1)\n",
    "predicted = np.argmax(y_pred,axis=1)\n",
    "print(f\"Actual: {actual}\")\n",
    "print(f\"Predicted: {predicted}\")\n",
    "\n",
    "print(f'Training Set Accuracy: {(predicted == actual).mean() * 100:f}')"
   ],
   "outputs": [
    {
     "output_type": "stream",
     "name": "stdout",
     "text": [
      "Actual: [2 1 0 2 0 2 0 1 1 1 2 1 1 1 1 0 1 1 0 0 2 1 0 0 2 0 0 1 1 0]\n",
      "Predicted: [2 2 2 2 2 2 2 2 2 2 2 2 2 2 2 2 2 2 2 2 2 2 2 2 2 2 2 2 2 2]\n"
     ]
    },
    {
     "output_type": "stream",
     "name": "stderr",
     "text": [
      "/var/folders/z2/6mdbpjn556s1zb_dqy_hj6lr0000gn/T/ipykernel_70318/1831638829.py:6: DeprecationWarning: elementwise comparison failed; this will raise an error in the future.\n",
      "  print(f'Training Set Accuracy: {(predicted == y_test).mean() * 100:f}')\n"
     ]
    },
    {
     "output_type": "error",
     "ename": "AttributeError",
     "evalue": "'bool' object has no attribute 'mean'",
     "traceback": [
      "\u001b[0;31m---------------------------------------------------------------------------\u001b[0m",
      "\u001b[0;31mAttributeError\u001b[0m                            Traceback (most recent call last)",
      "\u001b[0;32m/var/folders/z2/6mdbpjn556s1zb_dqy_hj6lr0000gn/T/ipykernel_70318/1831638829.py\u001b[0m in \u001b[0;36m<module>\u001b[0;34m\u001b[0m\n\u001b[1;32m      4\u001b[0m \u001b[0mprint\u001b[0m\u001b[0;34m(\u001b[0m\u001b[0;34mf\"Predicted: {predicted}\"\u001b[0m\u001b[0;34m)\u001b[0m\u001b[0;34m\u001b[0m\u001b[0;34m\u001b[0m\u001b[0m\n\u001b[1;32m      5\u001b[0m \u001b[0;34m\u001b[0m\u001b[0m\n\u001b[0;32m----> 6\u001b[0;31m \u001b[0mprint\u001b[0m\u001b[0;34m(\u001b[0m\u001b[0;34mf'Training Set Accuracy: {(predicted == y_test).mean() * 100:f}'\u001b[0m\u001b[0;34m)\u001b[0m\u001b[0;34m\u001b[0m\u001b[0;34m\u001b[0m\u001b[0m\n\u001b[0m",
      "\u001b[0;31mAttributeError\u001b[0m: 'bool' object has no attribute 'mean'"
     ]
    }
   ],
   "metadata": {}
  }
 ],
 "metadata": {
  "orig_nbformat": 4,
  "language_info": {
   "name": "python",
   "version": "3.9.6",
   "mimetype": "text/x-python",
   "codemirror_mode": {
    "name": "ipython",
    "version": 3
   },
   "pygments_lexer": "ipython3",
   "nbconvert_exporter": "python",
   "file_extension": ".py"
  },
  "kernelspec": {
   "name": "python3",
   "display_name": "Python 3.9.6 64-bit"
  },
  "interpreter": {
   "hash": "aee8b7b246df8f9039afb4144a1f6fd8d2ca17a180786b69acc140d282b71a49"
  }
 },
 "nbformat": 4,
 "nbformat_minor": 2
}