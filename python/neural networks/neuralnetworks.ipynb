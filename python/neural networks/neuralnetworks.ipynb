{
 "cells": [
  {
   "cell_type": "markdown",
   "source": [
    "# Exploratory Analysis\n",
    "\n",
    "To begin this exploratory analysis, first import libraries and define functions for plotting the data using matplotlib. Depending on the data, not all plots will be made. (Hey, I'm just a simple kerneling bot, not a Kaggle Competitions Grandmaster!)"
   ],
   "metadata": {}
  },
  {
   "cell_type": "code",
   "execution_count": 1,
   "source": [
    "from mpl_toolkits.mplot3d import Axes3D\n",
    "from sklearn.preprocessing import StandardScaler\n",
    "from sklearn.preprocessing import LabelEncoder\n",
    "import seaborn as sns\n",
    "import matplotlib.pyplot as plt # plotting\n",
    "import numpy as np # linear algebra\n",
    "import os # accessing directory structure\n",
    "import pandas as pd # data processing, CSV file I/O (e.g. pd.read_csv)\n",
    "import matplotlib.pyplot as plt\n"
   ],
   "outputs": [],
   "metadata": {}
  },
  {
   "cell_type": "code",
   "execution_count": 2,
   "source": [
    "df1 = pd.read_csv('customertest.csv')\n",
    "df1.head()"
   ],
   "outputs": [
    {
     "output_type": "execute_result",
     "data": {
      "text/plain": [
       "       ID  Gender Ever_Married  Age Graduated  Profession  Work_Experience  \\\n",
       "0  458989  Female          Yes   36       Yes    Engineer              0.0   \n",
       "1  458994    Male          Yes   37       Yes  Healthcare              8.0   \n",
       "2  458996  Female          Yes   69        No         NaN              0.0   \n",
       "3  459000    Male          Yes   59        No   Executive             11.0   \n",
       "4  459001  Female           No   19        No   Marketing              NaN   \n",
       "\n",
       "  Spending_Score  Family_Size  Var_1  \n",
       "0            Low          1.0  Cat_6  \n",
       "1        Average          4.0  Cat_6  \n",
       "2            Low          1.0  Cat_6  \n",
       "3           High          2.0  Cat_6  \n",
       "4            Low          4.0  Cat_6  "
      ],
      "text/html": [
       "<div>\n",
       "<style scoped>\n",
       "    .dataframe tbody tr th:only-of-type {\n",
       "        vertical-align: middle;\n",
       "    }\n",
       "\n",
       "    .dataframe tbody tr th {\n",
       "        vertical-align: top;\n",
       "    }\n",
       "\n",
       "    .dataframe thead th {\n",
       "        text-align: right;\n",
       "    }\n",
       "</style>\n",
       "<table border=\"1\" class=\"dataframe\">\n",
       "  <thead>\n",
       "    <tr style=\"text-align: right;\">\n",
       "      <th></th>\n",
       "      <th>ID</th>\n",
       "      <th>Gender</th>\n",
       "      <th>Ever_Married</th>\n",
       "      <th>Age</th>\n",
       "      <th>Graduated</th>\n",
       "      <th>Profession</th>\n",
       "      <th>Work_Experience</th>\n",
       "      <th>Spending_Score</th>\n",
       "      <th>Family_Size</th>\n",
       "      <th>Var_1</th>\n",
       "    </tr>\n",
       "  </thead>\n",
       "  <tbody>\n",
       "    <tr>\n",
       "      <th>0</th>\n",
       "      <td>458989</td>\n",
       "      <td>Female</td>\n",
       "      <td>Yes</td>\n",
       "      <td>36</td>\n",
       "      <td>Yes</td>\n",
       "      <td>Engineer</td>\n",
       "      <td>0.0</td>\n",
       "      <td>Low</td>\n",
       "      <td>1.0</td>\n",
       "      <td>Cat_6</td>\n",
       "    </tr>\n",
       "    <tr>\n",
       "      <th>1</th>\n",
       "      <td>458994</td>\n",
       "      <td>Male</td>\n",
       "      <td>Yes</td>\n",
       "      <td>37</td>\n",
       "      <td>Yes</td>\n",
       "      <td>Healthcare</td>\n",
       "      <td>8.0</td>\n",
       "      <td>Average</td>\n",
       "      <td>4.0</td>\n",
       "      <td>Cat_6</td>\n",
       "    </tr>\n",
       "    <tr>\n",
       "      <th>2</th>\n",
       "      <td>458996</td>\n",
       "      <td>Female</td>\n",
       "      <td>Yes</td>\n",
       "      <td>69</td>\n",
       "      <td>No</td>\n",
       "      <td>NaN</td>\n",
       "      <td>0.0</td>\n",
       "      <td>Low</td>\n",
       "      <td>1.0</td>\n",
       "      <td>Cat_6</td>\n",
       "    </tr>\n",
       "    <tr>\n",
       "      <th>3</th>\n",
       "      <td>459000</td>\n",
       "      <td>Male</td>\n",
       "      <td>Yes</td>\n",
       "      <td>59</td>\n",
       "      <td>No</td>\n",
       "      <td>Executive</td>\n",
       "      <td>11.0</td>\n",
       "      <td>High</td>\n",
       "      <td>2.0</td>\n",
       "      <td>Cat_6</td>\n",
       "    </tr>\n",
       "    <tr>\n",
       "      <th>4</th>\n",
       "      <td>459001</td>\n",
       "      <td>Female</td>\n",
       "      <td>No</td>\n",
       "      <td>19</td>\n",
       "      <td>No</td>\n",
       "      <td>Marketing</td>\n",
       "      <td>NaN</td>\n",
       "      <td>Low</td>\n",
       "      <td>4.0</td>\n",
       "      <td>Cat_6</td>\n",
       "    </tr>\n",
       "  </tbody>\n",
       "</table>\n",
       "</div>"
      ]
     },
     "metadata": {},
     "execution_count": 2
    }
   ],
   "metadata": {}
  },
  {
   "cell_type": "code",
   "execution_count": 3,
   "source": [
    "df = pd.read_csv('customertrain.csv')\n",
    "df.head()"
   ],
   "outputs": [
    {
     "output_type": "execute_result",
     "data": {
      "text/plain": [
       "       ID  Gender Ever_Married  Age Graduated     Profession  Work_Experience  \\\n",
       "0  462809    Male           No   22        No     Healthcare              1.0   \n",
       "1  462643  Female          Yes   38       Yes       Engineer              NaN   \n",
       "2  466315  Female          Yes   67       Yes       Engineer              1.0   \n",
       "3  461735    Male          Yes   67       Yes         Lawyer              0.0   \n",
       "4  462669  Female          Yes   40       Yes  Entertainment              NaN   \n",
       "\n",
       "  Spending_Score  Family_Size  Var_1 Segmentation  \n",
       "0            Low          4.0  Cat_4            D  \n",
       "1        Average          3.0  Cat_4            A  \n",
       "2            Low          1.0  Cat_6            B  \n",
       "3           High          2.0  Cat_6            B  \n",
       "4           High          6.0  Cat_6            A  "
      ],
      "text/html": [
       "<div>\n",
       "<style scoped>\n",
       "    .dataframe tbody tr th:only-of-type {\n",
       "        vertical-align: middle;\n",
       "    }\n",
       "\n",
       "    .dataframe tbody tr th {\n",
       "        vertical-align: top;\n",
       "    }\n",
       "\n",
       "    .dataframe thead th {\n",
       "        text-align: right;\n",
       "    }\n",
       "</style>\n",
       "<table border=\"1\" class=\"dataframe\">\n",
       "  <thead>\n",
       "    <tr style=\"text-align: right;\">\n",
       "      <th></th>\n",
       "      <th>ID</th>\n",
       "      <th>Gender</th>\n",
       "      <th>Ever_Married</th>\n",
       "      <th>Age</th>\n",
       "      <th>Graduated</th>\n",
       "      <th>Profession</th>\n",
       "      <th>Work_Experience</th>\n",
       "      <th>Spending_Score</th>\n",
       "      <th>Family_Size</th>\n",
       "      <th>Var_1</th>\n",
       "      <th>Segmentation</th>\n",
       "    </tr>\n",
       "  </thead>\n",
       "  <tbody>\n",
       "    <tr>\n",
       "      <th>0</th>\n",
       "      <td>462809</td>\n",
       "      <td>Male</td>\n",
       "      <td>No</td>\n",
       "      <td>22</td>\n",
       "      <td>No</td>\n",
       "      <td>Healthcare</td>\n",
       "      <td>1.0</td>\n",
       "      <td>Low</td>\n",
       "      <td>4.0</td>\n",
       "      <td>Cat_4</td>\n",
       "      <td>D</td>\n",
       "    </tr>\n",
       "    <tr>\n",
       "      <th>1</th>\n",
       "      <td>462643</td>\n",
       "      <td>Female</td>\n",
       "      <td>Yes</td>\n",
       "      <td>38</td>\n",
       "      <td>Yes</td>\n",
       "      <td>Engineer</td>\n",
       "      <td>NaN</td>\n",
       "      <td>Average</td>\n",
       "      <td>3.0</td>\n",
       "      <td>Cat_4</td>\n",
       "      <td>A</td>\n",
       "    </tr>\n",
       "    <tr>\n",
       "      <th>2</th>\n",
       "      <td>466315</td>\n",
       "      <td>Female</td>\n",
       "      <td>Yes</td>\n",
       "      <td>67</td>\n",
       "      <td>Yes</td>\n",
       "      <td>Engineer</td>\n",
       "      <td>1.0</td>\n",
       "      <td>Low</td>\n",
       "      <td>1.0</td>\n",
       "      <td>Cat_6</td>\n",
       "      <td>B</td>\n",
       "    </tr>\n",
       "    <tr>\n",
       "      <th>3</th>\n",
       "      <td>461735</td>\n",
       "      <td>Male</td>\n",
       "      <td>Yes</td>\n",
       "      <td>67</td>\n",
       "      <td>Yes</td>\n",
       "      <td>Lawyer</td>\n",
       "      <td>0.0</td>\n",
       "      <td>High</td>\n",
       "      <td>2.0</td>\n",
       "      <td>Cat_6</td>\n",
       "      <td>B</td>\n",
       "    </tr>\n",
       "    <tr>\n",
       "      <th>4</th>\n",
       "      <td>462669</td>\n",
       "      <td>Female</td>\n",
       "      <td>Yes</td>\n",
       "      <td>40</td>\n",
       "      <td>Yes</td>\n",
       "      <td>Entertainment</td>\n",
       "      <td>NaN</td>\n",
       "      <td>High</td>\n",
       "      <td>6.0</td>\n",
       "      <td>Cat_6</td>\n",
       "      <td>A</td>\n",
       "    </tr>\n",
       "  </tbody>\n",
       "</table>\n",
       "</div>"
      ]
     },
     "metadata": {},
     "execution_count": 3
    }
   ],
   "metadata": {}
  },
  {
   "cell_type": "code",
   "execution_count": 4,
   "source": [
    "df.info()"
   ],
   "outputs": [
    {
     "output_type": "stream",
     "name": "stdout",
     "text": [
      "<class 'pandas.core.frame.DataFrame'>\n",
      "RangeIndex: 8068 entries, 0 to 8067\n",
      "Data columns (total 11 columns):\n",
      " #   Column           Non-Null Count  Dtype  \n",
      "---  ------           --------------  -----  \n",
      " 0   ID               8068 non-null   int64  \n",
      " 1   Gender           8068 non-null   object \n",
      " 2   Ever_Married     7928 non-null   object \n",
      " 3   Age              8068 non-null   int64  \n",
      " 4   Graduated        7990 non-null   object \n",
      " 5   Profession       7944 non-null   object \n",
      " 6   Work_Experience  7239 non-null   float64\n",
      " 7   Spending_Score   8068 non-null   object \n",
      " 8   Family_Size      7733 non-null   float64\n",
      " 9   Var_1            7992 non-null   object \n",
      " 10  Segmentation     8068 non-null   object \n",
      "dtypes: float64(2), int64(2), object(7)\n",
      "memory usage: 693.5+ KB\n"
     ]
    }
   ],
   "metadata": {}
  },
  {
   "cell_type": "markdown",
   "source": [
    "# Prepare the data  \n"
   ],
   "metadata": {}
  },
  {
   "cell_type": "code",
   "execution_count": 5,
   "source": [
    "columns = [\"Gender\",\"Ever_Married\",\"Graduated\",\"Profession\",\"Spending_Score\"]\n",
    "for feature in columns:\n",
    "    le = LabelEncoder()\n",
    "    df[feature] = le.fit_transform(df[feature])\n",
    "\n",
    "# df = df.drop([\"Segmentation\",\"ID\"], axis=1)        \n",
    "df = df.drop([\"ID\",\"Gender\",\"Age\",\"Profession\",\"Work_Experience\",\"Spending_Score\",\"Segmentation\"], axis=1)        \n",
    "df.head()"
   ],
   "outputs": [
    {
     "output_type": "execute_result",
     "data": {
      "text/plain": [
       "   Ever_Married  Graduated  Family_Size  Var_1\n",
       "0             0          0          4.0  Cat_4\n",
       "1             1          1          3.0  Cat_4\n",
       "2             1          1          1.0  Cat_6\n",
       "3             1          1          2.0  Cat_6\n",
       "4             1          1          6.0  Cat_6"
      ],
      "text/html": [
       "<div>\n",
       "<style scoped>\n",
       "    .dataframe tbody tr th:only-of-type {\n",
       "        vertical-align: middle;\n",
       "    }\n",
       "\n",
       "    .dataframe tbody tr th {\n",
       "        vertical-align: top;\n",
       "    }\n",
       "\n",
       "    .dataframe thead th {\n",
       "        text-align: right;\n",
       "    }\n",
       "</style>\n",
       "<table border=\"1\" class=\"dataframe\">\n",
       "  <thead>\n",
       "    <tr style=\"text-align: right;\">\n",
       "      <th></th>\n",
       "      <th>Ever_Married</th>\n",
       "      <th>Graduated</th>\n",
       "      <th>Family_Size</th>\n",
       "      <th>Var_1</th>\n",
       "    </tr>\n",
       "  </thead>\n",
       "  <tbody>\n",
       "    <tr>\n",
       "      <th>0</th>\n",
       "      <td>0</td>\n",
       "      <td>0</td>\n",
       "      <td>4.0</td>\n",
       "      <td>Cat_4</td>\n",
       "    </tr>\n",
       "    <tr>\n",
       "      <th>1</th>\n",
       "      <td>1</td>\n",
       "      <td>1</td>\n",
       "      <td>3.0</td>\n",
       "      <td>Cat_4</td>\n",
       "    </tr>\n",
       "    <tr>\n",
       "      <th>2</th>\n",
       "      <td>1</td>\n",
       "      <td>1</td>\n",
       "      <td>1.0</td>\n",
       "      <td>Cat_6</td>\n",
       "    </tr>\n",
       "    <tr>\n",
       "      <th>3</th>\n",
       "      <td>1</td>\n",
       "      <td>1</td>\n",
       "      <td>2.0</td>\n",
       "      <td>Cat_6</td>\n",
       "    </tr>\n",
       "    <tr>\n",
       "      <th>4</th>\n",
       "      <td>1</td>\n",
       "      <td>1</td>\n",
       "      <td>6.0</td>\n",
       "      <td>Cat_6</td>\n",
       "    </tr>\n",
       "  </tbody>\n",
       "</table>\n",
       "</div>"
      ]
     },
     "metadata": {},
     "execution_count": 5
    }
   ],
   "metadata": {}
  },
  {
   "cell_type": "markdown",
   "source": [
    "# Remove rows with no data  \n",
    "\n",
    "We dont want to work with rows that do not have a Var_1 value, so lets remove them."
   ],
   "metadata": {}
  },
  {
   "cell_type": "code",
   "execution_count": 6,
   "source": [
    "df.dropna(subset=['Var_1'], inplace=True)\n",
    "df.info()"
   ],
   "outputs": [
    {
     "output_type": "stream",
     "name": "stdout",
     "text": [
      "<class 'pandas.core.frame.DataFrame'>\n",
      "Int64Index: 7992 entries, 0 to 8067\n",
      "Data columns (total 4 columns):\n",
      " #   Column        Non-Null Count  Dtype  \n",
      "---  ------        --------------  -----  \n",
      " 0   Ever_Married  7992 non-null   int64  \n",
      " 1   Graduated     7992 non-null   int64  \n",
      " 2   Family_Size   7671 non-null   float64\n",
      " 3   Var_1         7992 non-null   object \n",
      "dtypes: float64(1), int64(2), object(1)\n",
      "memory usage: 312.2+ KB\n"
     ]
    }
   ],
   "metadata": {}
  },
  {
   "cell_type": "markdown",
   "source": [
    "# Encode Y\n",
    "Use fit_transform to encode our multinomial categories into numbers we can work with. Later on, we can change back to labels with  \n",
    "```\n",
    "df[\"Var_1\"] = yle.inverse_transform(df[\"Var_1\"])\n",
    "```\n",
    "\n",
    "We can also print the list of categories as follows:  \n",
    "```\n",
    "print(yle.classes_)\n",
    "```"
   ],
   "metadata": {}
  },
  {
   "cell_type": "code",
   "execution_count": 7,
   "source": [
    "yle = LabelEncoder()\n",
    "df[\"Var_1\"] = yle.fit_transform(df[\"Var_1\"])\n",
    "df.head()"
   ],
   "outputs": [
    {
     "output_type": "execute_result",
     "data": {
      "text/plain": [
       "   Ever_Married  Graduated  Family_Size  Var_1\n",
       "0             0          0          4.0      3\n",
       "1             1          1          3.0      3\n",
       "2             1          1          1.0      5\n",
       "3             1          1          2.0      5\n",
       "4             1          1          6.0      5"
      ],
      "text/html": [
       "<div>\n",
       "<style scoped>\n",
       "    .dataframe tbody tr th:only-of-type {\n",
       "        vertical-align: middle;\n",
       "    }\n",
       "\n",
       "    .dataframe tbody tr th {\n",
       "        vertical-align: top;\n",
       "    }\n",
       "\n",
       "    .dataframe thead th {\n",
       "        text-align: right;\n",
       "    }\n",
       "</style>\n",
       "<table border=\"1\" class=\"dataframe\">\n",
       "  <thead>\n",
       "    <tr style=\"text-align: right;\">\n",
       "      <th></th>\n",
       "      <th>Ever_Married</th>\n",
       "      <th>Graduated</th>\n",
       "      <th>Family_Size</th>\n",
       "      <th>Var_1</th>\n",
       "    </tr>\n",
       "  </thead>\n",
       "  <tbody>\n",
       "    <tr>\n",
       "      <th>0</th>\n",
       "      <td>0</td>\n",
       "      <td>0</td>\n",
       "      <td>4.0</td>\n",
       "      <td>3</td>\n",
       "    </tr>\n",
       "    <tr>\n",
       "      <th>1</th>\n",
       "      <td>1</td>\n",
       "      <td>1</td>\n",
       "      <td>3.0</td>\n",
       "      <td>3</td>\n",
       "    </tr>\n",
       "    <tr>\n",
       "      <th>2</th>\n",
       "      <td>1</td>\n",
       "      <td>1</td>\n",
       "      <td>1.0</td>\n",
       "      <td>5</td>\n",
       "    </tr>\n",
       "    <tr>\n",
       "      <th>3</th>\n",
       "      <td>1</td>\n",
       "      <td>1</td>\n",
       "      <td>2.0</td>\n",
       "      <td>5</td>\n",
       "    </tr>\n",
       "    <tr>\n",
       "      <th>4</th>\n",
       "      <td>1</td>\n",
       "      <td>1</td>\n",
       "      <td>6.0</td>\n",
       "      <td>5</td>\n",
       "    </tr>\n",
       "  </tbody>\n",
       "</table>\n",
       "</div>"
      ]
     },
     "metadata": {},
     "execution_count": 7
    }
   ],
   "metadata": {}
  },
  {
   "cell_type": "markdown",
   "source": [
    "# Fill in missing features  \n",
    "\n",
    "An important part of regression is understanding which features are missing. We can choose to ignore all rows with missing values, or fill them in with either mode, median or mode.\n",
    "\n",
    "- Mode = most common value\n",
    "- Median = middle value\n",
    "- Mean = average\n",
    "\n",
    "Here is a handy function you can call which will fill in the missing features by your desired method. We will choose to fill in values with the average.  \n",
    "After funning below, you should see 7992 with no null values."
   ],
   "metadata": {}
  },
  {
   "cell_type": "code",
   "execution_count": 8,
   "source": [
    "def fillmissing(df, feature, method):\n",
    "    if method == \"mode\":\n",
    "        df[feature] = df[feature].fillna(df[feature].mode()[0])\n",
    "        \n",
    "    elif method == \"median\":\n",
    "        df[feature] = df[feature].fillna(df[feature].median())\n",
    "        \n",
    "    else:\n",
    "        df[feature] = df[feature].fillna(df[feature].mean())"
   ],
   "outputs": [],
   "metadata": {}
  },
  {
   "cell_type": "code",
   "execution_count": 9,
   "source": [
    "features_missing= df.columns[df.isna().any()]\n",
    "for feature in features_missing:\n",
    "    fillmissing(df, feature= feature, method= \"mean\")\n",
    "df.info()"
   ],
   "outputs": [
    {
     "output_type": "stream",
     "name": "stdout",
     "text": [
      "<class 'pandas.core.frame.DataFrame'>\n",
      "Int64Index: 7992 entries, 0 to 8067\n",
      "Data columns (total 4 columns):\n",
      " #   Column        Non-Null Count  Dtype  \n",
      "---  ------        --------------  -----  \n",
      " 0   Ever_Married  7992 non-null   int64  \n",
      " 1   Graduated     7992 non-null   int64  \n",
      " 2   Family_Size   7992 non-null   float64\n",
      " 3   Var_1         7992 non-null   int64  \n",
      "dtypes: float64(1), int64(3)\n",
      "memory usage: 312.2 KB\n"
     ]
    }
   ],
   "metadata": {}
  },
  {
   "cell_type": "markdown",
   "source": [
    "# Extract Y column from the dataframe  \n",
    "\n",
    "Lets extract our Y column into a seperate array and remove it from the dataframe."
   ],
   "metadata": {}
  },
  {
   "cell_type": "code",
   "execution_count": 10,
   "source": [
    "Y = df[\"Var_1\"]\n",
    "df = df.drop([\"Var_1\"], axis=1) "
   ],
   "outputs": [],
   "metadata": {}
  },
  {
   "cell_type": "markdown",
   "source": [
    "# Plot correlation matrix\n",
    "\n",
    "If we have a data set with many columns, a good way to quickly check correlations among columns is by visualizing the correlation matrix as a heatmap. Looking at the matrix, you can see 9 columns that have the highest correlation above 0.38. We are only interested in `life expectancy`, so look at the bottom row for your results.   "
   ],
   "metadata": {}
  },
  {
   "cell_type": "code",
   "execution_count": 11,
   "source": [
    "plt.figure(figsize = (24,16))\n",
    "sns.heatmap(pd.concat([df,Y], axis=1).corr(), annot=True, cmap=\"coolwarm\")"
   ],
   "outputs": [
    {
     "output_type": "execute_result",
     "data": {
      "text/plain": [
       "<AxesSubplot:>"
      ]
     },
     "metadata": {},
     "execution_count": 11
    },
    {
     "output_type": "display_data",
     "data": {
      "text/plain": [
       "<Figure size 1728x1152 with 2 Axes>"
      ],
      "image/svg+xml": "<?xml version=\"1.0\" encoding=\"utf-8\" standalone=\"no\"?>\n<!DOCTYPE svg PUBLIC \"-//W3C//DTD SVG 1.1//EN\"\n  \"http://www.w3.org/Graphics/SVG/1.1/DTD/svg11.dtd\">\n<svg height=\"904.915469pt\" version=\"1.1\" viewBox=\"0 0 1244.447063 904.915469\" width=\"1244.447063pt\" xmlns=\"http://www.w3.org/2000/svg\" xmlns:xlink=\"http://www.w3.org/1999/xlink\">\n <metadata>\n  <rdf:RDF xmlns:cc=\"http://creativecommons.org/ns#\" xmlns:dc=\"http://purl.org/dc/elements/1.1/\" xmlns:rdf=\"http://www.w3.org/1999/02/22-rdf-syntax-ns#\">\n   <cc:Work>\n    <dc:type rdf:resource=\"http://purl.org/dc/dcmitype/StillImage\"/>\n    <dc:date>2021-08-16T10:07:10.778066</dc:date>\n    <dc:format>image/svg+xml</dc:format>\n    <dc:creator>\n     <cc:Agent>\n      <dc:title>Matplotlib v3.4.2, https://matplotlib.org/</dc:title>\n     </cc:Agent>\n    </dc:creator>\n   </cc:Work>\n  </rdf:RDF>\n </metadata>\n <defs>\n  <style type=\"text/css\">*{stroke-linecap:butt;stroke-linejoin:round;}</style>\n </defs>\n <g id=\"figure_1\">\n  <g id=\"patch_1\">\n   <path d=\"M 0 904.915469 \nL 1244.447063 904.915469 \nL 1244.447063 0 \nL 0 0 \nz\n\" style=\"fill:none;\"/>\n  </g>\n  <g id=\"axes_1\">\n   <g id=\"patch_2\">\n    <path d=\"M 24.15625 880.759219 \nL 1095.51625 880.759219 \nL 1095.51625 10.999219 \nL 24.15625 10.999219 \nz\n\" style=\"fill:#ffffff;\"/>\n   </g>\n   <g id=\"QuadMesh_1\">\n    <path clip-path=\"url(#p05798390a3)\" d=\"M 24.15625 10.999219 \nL 291.99625 10.999219 \nL 291.99625 228.439219 \nL 24.15625 228.439219 \nL 24.15625 10.999219 \n\" style=\"fill:#b40426;\"/>\n    <path clip-path=\"url(#p05798390a3)\" d=\"M 291.99625 10.999219 \nL 559.83625 10.999219 \nL 559.83625 228.439219 \nL 291.99625 228.439219 \nL 291.99625 10.999219 \n\" style=\"fill:#a2c1ff;\"/>\n    <path clip-path=\"url(#p05798390a3)\" d=\"M 559.83625 10.999219 \nL 827.67625 10.999219 \nL 827.67625 228.439219 \nL 559.83625 228.439219 \nL 559.83625 10.999219 \n\" style=\"fill:#5f7fe8;\"/>\n    <path clip-path=\"url(#p05798390a3)\" d=\"M 827.67625 10.999219 \nL 1095.51625 10.999219 \nL 1095.51625 228.439219 \nL 827.67625 228.439219 \nL 827.67625 10.999219 \n\" style=\"fill:#84a7fc;\"/>\n    <path clip-path=\"url(#p05798390a3)\" d=\"M 24.15625 228.439219 \nL 291.99625 228.439219 \nL 291.99625 445.879219 \nL 24.15625 445.879219 \nL 24.15625 228.439219 \n\" style=\"fill:#a2c1ff;\"/>\n    <path clip-path=\"url(#p05798390a3)\" d=\"M 291.99625 228.439219 \nL 559.83625 228.439219 \nL 559.83625 445.879219 \nL 291.99625 445.879219 \nL 291.99625 228.439219 \n\" style=\"fill:#b40426;\"/>\n    <path clip-path=\"url(#p05798390a3)\" d=\"M 559.83625 228.439219 \nL 827.67625 228.439219 \nL 827.67625 445.879219 \nL 559.83625 445.879219 \nL 559.83625 228.439219 \n\" style=\"fill:#3b4cc0;\"/>\n    <path clip-path=\"url(#p05798390a3)\" d=\"M 827.67625 228.439219 \nL 1095.51625 228.439219 \nL 1095.51625 445.879219 \nL 827.67625 445.879219 \nL 827.67625 228.439219 \n\" style=\"fill:#92b4fe;\"/>\n    <path clip-path=\"url(#p05798390a3)\" d=\"M 24.15625 445.879219 \nL 291.99625 445.879219 \nL 291.99625 663.319219 \nL 24.15625 663.319219 \nL 24.15625 445.879219 \n\" style=\"fill:#5f7fe8;\"/>\n    <path clip-path=\"url(#p05798390a3)\" d=\"M 291.99625 445.879219 \nL 559.83625 445.879219 \nL 559.83625 663.319219 \nL 291.99625 663.319219 \nL 291.99625 445.879219 \n\" style=\"fill:#3b4cc0;\"/>\n    <path clip-path=\"url(#p05798390a3)\" d=\"M 559.83625 445.879219 \nL 827.67625 445.879219 \nL 827.67625 663.319219 \nL 559.83625 663.319219 \nL 559.83625 445.879219 \n\" style=\"fill:#b40426;\"/>\n    <path clip-path=\"url(#p05798390a3)\" d=\"M 827.67625 445.879219 \nL 1095.51625 445.879219 \nL 1095.51625 663.319219 \nL 827.67625 663.319219 \nL 827.67625 445.879219 \n\" style=\"fill:#4b64d5;\"/>\n    <path clip-path=\"url(#p05798390a3)\" d=\"M 24.15625 663.319219 \nL 291.99625 663.319219 \nL 291.99625 880.759219 \nL 24.15625 880.759219 \nL 24.15625 663.319219 \n\" style=\"fill:#84a7fc;\"/>\n    <path clip-path=\"url(#p05798390a3)\" d=\"M 291.99625 663.319219 \nL 559.83625 663.319219 \nL 559.83625 880.759219 \nL 291.99625 880.759219 \nL 291.99625 663.319219 \n\" style=\"fill:#92b4fe;\"/>\n    <path clip-path=\"url(#p05798390a3)\" d=\"M 559.83625 663.319219 \nL 827.67625 663.319219 \nL 827.67625 880.759219 \nL 559.83625 880.759219 \nL 559.83625 663.319219 \n\" style=\"fill:#4b64d5;\"/>\n    <path clip-path=\"url(#p05798390a3)\" d=\"M 827.67625 663.319219 \nL 1095.51625 663.319219 \nL 1095.51625 880.759219 \nL 827.67625 880.759219 \nL 827.67625 663.319219 \n\" style=\"fill:#b40426;\"/>\n   </g>\n   <g id=\"matplotlib.axis_1\">\n    <g id=\"xtick_1\">\n     <g id=\"line2d_1\">\n      <defs>\n       <path d=\"M 0 0 \nL 0 3.5 \n\" id=\"md94f15be12\" style=\"stroke:#000000;stroke-width:0.8;\"/>\n      </defs>\n      <g>\n       <use style=\"stroke:#000000;stroke-width:0.8;\" x=\"158.07625\" xlink:href=\"#md94f15be12\" y=\"880.759219\"/>\n      </g>\n     </g>\n     <g id=\"text_1\">\n      <!-- Ever_Married -->\n      <g transform=\"translate(125.284063 895.357656)scale(0.1 -0.1)\">\n       <defs>\n        <path d=\"M 628 4666 \nL 3578 4666 \nL 3578 4134 \nL 1259 4134 \nL 1259 2753 \nL 3481 2753 \nL 3481 2222 \nL 1259 2222 \nL 1259 531 \nL 3634 531 \nL 3634 0 \nL 628 0 \nL 628 4666 \nz\n\" id=\"DejaVuSans-45\" transform=\"scale(0.015625)\"/>\n        <path d=\"M 191 3500 \nL 800 3500 \nL 1894 563 \nL 2988 3500 \nL 3597 3500 \nL 2284 0 \nL 1503 0 \nL 191 3500 \nz\n\" id=\"DejaVuSans-76\" transform=\"scale(0.015625)\"/>\n        <path d=\"M 3597 1894 \nL 3597 1613 \nL 953 1613 \nQ 991 1019 1311 708 \nQ 1631 397 2203 397 \nQ 2534 397 2845 478 \nQ 3156 559 3463 722 \nL 3463 178 \nQ 3153 47 2828 -22 \nQ 2503 -91 2169 -91 \nQ 1331 -91 842 396 \nQ 353 884 353 1716 \nQ 353 2575 817 3079 \nQ 1281 3584 2069 3584 \nQ 2775 3584 3186 3129 \nQ 3597 2675 3597 1894 \nz\nM 3022 2063 \nQ 3016 2534 2758 2815 \nQ 2500 3097 2075 3097 \nQ 1594 3097 1305 2825 \nQ 1016 2553 972 2059 \nL 3022 2063 \nz\n\" id=\"DejaVuSans-65\" transform=\"scale(0.015625)\"/>\n        <path d=\"M 2631 2963 \nQ 2534 3019 2420 3045 \nQ 2306 3072 2169 3072 \nQ 1681 3072 1420 2755 \nQ 1159 2438 1159 1844 \nL 1159 0 \nL 581 0 \nL 581 3500 \nL 1159 3500 \nL 1159 2956 \nQ 1341 3275 1631 3429 \nQ 1922 3584 2338 3584 \nQ 2397 3584 2469 3576 \nQ 2541 3569 2628 3553 \nL 2631 2963 \nz\n\" id=\"DejaVuSans-72\" transform=\"scale(0.015625)\"/>\n        <path d=\"M 3263 -1063 \nL 3263 -1509 \nL -63 -1509 \nL -63 -1063 \nL 3263 -1063 \nz\n\" id=\"DejaVuSans-5f\" transform=\"scale(0.015625)\"/>\n        <path d=\"M 628 4666 \nL 1569 4666 \nL 2759 1491 \nL 3956 4666 \nL 4897 4666 \nL 4897 0 \nL 4281 0 \nL 4281 4097 \nL 3078 897 \nL 2444 897 \nL 1241 4097 \nL 1241 0 \nL 628 0 \nL 628 4666 \nz\n\" id=\"DejaVuSans-4d\" transform=\"scale(0.015625)\"/>\n        <path d=\"M 2194 1759 \nQ 1497 1759 1228 1600 \nQ 959 1441 959 1056 \nQ 959 750 1161 570 \nQ 1363 391 1709 391 \nQ 2188 391 2477 730 \nQ 2766 1069 2766 1631 \nL 2766 1759 \nL 2194 1759 \nz\nM 3341 1997 \nL 3341 0 \nL 2766 0 \nL 2766 531 \nQ 2569 213 2275 61 \nQ 1981 -91 1556 -91 \nQ 1019 -91 701 211 \nQ 384 513 384 1019 \nQ 384 1609 779 1909 \nQ 1175 2209 1959 2209 \nL 2766 2209 \nL 2766 2266 \nQ 2766 2663 2505 2880 \nQ 2244 3097 1772 3097 \nQ 1472 3097 1187 3025 \nQ 903 2953 641 2809 \nL 641 3341 \nQ 956 3463 1253 3523 \nQ 1550 3584 1831 3584 \nQ 2591 3584 2966 3190 \nQ 3341 2797 3341 1997 \nz\n\" id=\"DejaVuSans-61\" transform=\"scale(0.015625)\"/>\n        <path d=\"M 603 3500 \nL 1178 3500 \nL 1178 0 \nL 603 0 \nL 603 3500 \nz\nM 603 4863 \nL 1178 4863 \nL 1178 4134 \nL 603 4134 \nL 603 4863 \nz\n\" id=\"DejaVuSans-69\" transform=\"scale(0.015625)\"/>\n        <path d=\"M 2906 2969 \nL 2906 4863 \nL 3481 4863 \nL 3481 0 \nL 2906 0 \nL 2906 525 \nQ 2725 213 2448 61 \nQ 2172 -91 1784 -91 \nQ 1150 -91 751 415 \nQ 353 922 353 1747 \nQ 353 2572 751 3078 \nQ 1150 3584 1784 3584 \nQ 2172 3584 2448 3432 \nQ 2725 3281 2906 2969 \nz\nM 947 1747 \nQ 947 1113 1208 752 \nQ 1469 391 1925 391 \nQ 2381 391 2643 752 \nQ 2906 1113 2906 1747 \nQ 2906 2381 2643 2742 \nQ 2381 3103 1925 3103 \nQ 1469 3103 1208 2742 \nQ 947 2381 947 1747 \nz\n\" id=\"DejaVuSans-64\" transform=\"scale(0.015625)\"/>\n       </defs>\n       <use xlink:href=\"#DejaVuSans-45\"/>\n       <use x=\"63.183594\" xlink:href=\"#DejaVuSans-76\"/>\n       <use x=\"122.363281\" xlink:href=\"#DejaVuSans-65\"/>\n       <use x=\"183.886719\" xlink:href=\"#DejaVuSans-72\"/>\n       <use x=\"225\" xlink:href=\"#DejaVuSans-5f\"/>\n       <use x=\"275\" xlink:href=\"#DejaVuSans-4d\"/>\n       <use x=\"361.279297\" xlink:href=\"#DejaVuSans-61\"/>\n       <use x=\"422.558594\" xlink:href=\"#DejaVuSans-72\"/>\n       <use x=\"461.921875\" xlink:href=\"#DejaVuSans-72\"/>\n       <use x=\"503.035156\" xlink:href=\"#DejaVuSans-69\"/>\n       <use x=\"530.818359\" xlink:href=\"#DejaVuSans-65\"/>\n       <use x=\"592.341797\" xlink:href=\"#DejaVuSans-64\"/>\n      </g>\n     </g>\n    </g>\n    <g id=\"xtick_2\">\n     <g id=\"line2d_2\">\n      <g>\n       <use style=\"stroke:#000000;stroke-width:0.8;\" x=\"425.91625\" xlink:href=\"#md94f15be12\" y=\"880.759219\"/>\n      </g>\n     </g>\n     <g id=\"text_2\">\n      <!-- Graduated -->\n      <g transform=\"translate(399.304531 895.357656)scale(0.1 -0.1)\">\n       <defs>\n        <path d=\"M 3809 666 \nL 3809 1919 \nL 2778 1919 \nL 2778 2438 \nL 4434 2438 \nL 4434 434 \nQ 4069 175 3628 42 \nQ 3188 -91 2688 -91 \nQ 1594 -91 976 548 \nQ 359 1188 359 2328 \nQ 359 3472 976 4111 \nQ 1594 4750 2688 4750 \nQ 3144 4750 3555 4637 \nQ 3966 4525 4313 4306 \nL 4313 3634 \nQ 3963 3931 3569 4081 \nQ 3175 4231 2741 4231 \nQ 1884 4231 1454 3753 \nQ 1025 3275 1025 2328 \nQ 1025 1384 1454 906 \nQ 1884 428 2741 428 \nQ 3075 428 3337 486 \nQ 3600 544 3809 666 \nz\n\" id=\"DejaVuSans-47\" transform=\"scale(0.015625)\"/>\n        <path d=\"M 544 1381 \nL 544 3500 \nL 1119 3500 \nL 1119 1403 \nQ 1119 906 1312 657 \nQ 1506 409 1894 409 \nQ 2359 409 2629 706 \nQ 2900 1003 2900 1516 \nL 2900 3500 \nL 3475 3500 \nL 3475 0 \nL 2900 0 \nL 2900 538 \nQ 2691 219 2414 64 \nQ 2138 -91 1772 -91 \nQ 1169 -91 856 284 \nQ 544 659 544 1381 \nz\nM 1991 3584 \nL 1991 3584 \nz\n\" id=\"DejaVuSans-75\" transform=\"scale(0.015625)\"/>\n        <path d=\"M 1172 4494 \nL 1172 3500 \nL 2356 3500 \nL 2356 3053 \nL 1172 3053 \nL 1172 1153 \nQ 1172 725 1289 603 \nQ 1406 481 1766 481 \nL 2356 481 \nL 2356 0 \nL 1766 0 \nQ 1100 0 847 248 \nQ 594 497 594 1153 \nL 594 3053 \nL 172 3053 \nL 172 3500 \nL 594 3500 \nL 594 4494 \nL 1172 4494 \nz\n\" id=\"DejaVuSans-74\" transform=\"scale(0.015625)\"/>\n       </defs>\n       <use xlink:href=\"#DejaVuSans-47\"/>\n       <use x=\"77.490234\" xlink:href=\"#DejaVuSans-72\"/>\n       <use x=\"118.603516\" xlink:href=\"#DejaVuSans-61\"/>\n       <use x=\"179.882812\" xlink:href=\"#DejaVuSans-64\"/>\n       <use x=\"243.359375\" xlink:href=\"#DejaVuSans-75\"/>\n       <use x=\"306.738281\" xlink:href=\"#DejaVuSans-61\"/>\n       <use x=\"368.017578\" xlink:href=\"#DejaVuSans-74\"/>\n       <use x=\"407.226562\" xlink:href=\"#DejaVuSans-65\"/>\n       <use x=\"468.75\" xlink:href=\"#DejaVuSans-64\"/>\n      </g>\n     </g>\n    </g>\n    <g id=\"xtick_3\">\n     <g id=\"line2d_3\">\n      <g>\n       <use style=\"stroke:#000000;stroke-width:0.8;\" x=\"693.75625\" xlink:href=\"#md94f15be12\" y=\"880.759219\"/>\n      </g>\n     </g>\n     <g id=\"text_3\">\n      <!-- Family_Size -->\n      <g transform=\"translate(664.900781 895.357656)scale(0.1 -0.1)\">\n       <defs>\n        <path d=\"M 628 4666 \nL 3309 4666 \nL 3309 4134 \nL 1259 4134 \nL 1259 2759 \nL 3109 2759 \nL 3109 2228 \nL 1259 2228 \nL 1259 0 \nL 628 0 \nL 628 4666 \nz\n\" id=\"DejaVuSans-46\" transform=\"scale(0.015625)\"/>\n        <path d=\"M 3328 2828 \nQ 3544 3216 3844 3400 \nQ 4144 3584 4550 3584 \nQ 5097 3584 5394 3201 \nQ 5691 2819 5691 2113 \nL 5691 0 \nL 5113 0 \nL 5113 2094 \nQ 5113 2597 4934 2840 \nQ 4756 3084 4391 3084 \nQ 3944 3084 3684 2787 \nQ 3425 2491 3425 1978 \nL 3425 0 \nL 2847 0 \nL 2847 2094 \nQ 2847 2600 2669 2842 \nQ 2491 3084 2119 3084 \nQ 1678 3084 1418 2786 \nQ 1159 2488 1159 1978 \nL 1159 0 \nL 581 0 \nL 581 3500 \nL 1159 3500 \nL 1159 2956 \nQ 1356 3278 1631 3431 \nQ 1906 3584 2284 3584 \nQ 2666 3584 2933 3390 \nQ 3200 3197 3328 2828 \nz\n\" id=\"DejaVuSans-6d\" transform=\"scale(0.015625)\"/>\n        <path d=\"M 603 4863 \nL 1178 4863 \nL 1178 0 \nL 603 0 \nL 603 4863 \nz\n\" id=\"DejaVuSans-6c\" transform=\"scale(0.015625)\"/>\n        <path d=\"M 2059 -325 \nQ 1816 -950 1584 -1140 \nQ 1353 -1331 966 -1331 \nL 506 -1331 \nL 506 -850 \nL 844 -850 \nQ 1081 -850 1212 -737 \nQ 1344 -625 1503 -206 \nL 1606 56 \nL 191 3500 \nL 800 3500 \nL 1894 763 \nL 2988 3500 \nL 3597 3500 \nL 2059 -325 \nz\n\" id=\"DejaVuSans-79\" transform=\"scale(0.015625)\"/>\n        <path d=\"M 3425 4513 \nL 3425 3897 \nQ 3066 4069 2747 4153 \nQ 2428 4238 2131 4238 \nQ 1616 4238 1336 4038 \nQ 1056 3838 1056 3469 \nQ 1056 3159 1242 3001 \nQ 1428 2844 1947 2747 \nL 2328 2669 \nQ 3034 2534 3370 2195 \nQ 3706 1856 3706 1288 \nQ 3706 609 3251 259 \nQ 2797 -91 1919 -91 \nQ 1588 -91 1214 -16 \nQ 841 59 441 206 \nL 441 856 \nQ 825 641 1194 531 \nQ 1563 422 1919 422 \nQ 2459 422 2753 634 \nQ 3047 847 3047 1241 \nQ 3047 1584 2836 1778 \nQ 2625 1972 2144 2069 \nL 1759 2144 \nQ 1053 2284 737 2584 \nQ 422 2884 422 3419 \nQ 422 4038 858 4394 \nQ 1294 4750 2059 4750 \nQ 2388 4750 2728 4690 \nQ 3069 4631 3425 4513 \nz\n\" id=\"DejaVuSans-53\" transform=\"scale(0.015625)\"/>\n        <path d=\"M 353 3500 \nL 3084 3500 \nL 3084 2975 \nL 922 459 \nL 3084 459 \nL 3084 0 \nL 275 0 \nL 275 525 \nL 2438 3041 \nL 353 3041 \nL 353 3500 \nz\n\" id=\"DejaVuSans-7a\" transform=\"scale(0.015625)\"/>\n       </defs>\n       <use xlink:href=\"#DejaVuSans-46\"/>\n       <use x=\"48.394531\" xlink:href=\"#DejaVuSans-61\"/>\n       <use x=\"109.673828\" xlink:href=\"#DejaVuSans-6d\"/>\n       <use x=\"207.085938\" xlink:href=\"#DejaVuSans-69\"/>\n       <use x=\"234.869141\" xlink:href=\"#DejaVuSans-6c\"/>\n       <use x=\"262.652344\" xlink:href=\"#DejaVuSans-79\"/>\n       <use x=\"321.832031\" xlink:href=\"#DejaVuSans-5f\"/>\n       <use x=\"371.832031\" xlink:href=\"#DejaVuSans-53\"/>\n       <use x=\"435.308594\" xlink:href=\"#DejaVuSans-69\"/>\n       <use x=\"463.091797\" xlink:href=\"#DejaVuSans-7a\"/>\n       <use x=\"515.582031\" xlink:href=\"#DejaVuSans-65\"/>\n      </g>\n     </g>\n    </g>\n    <g id=\"xtick_4\">\n     <g id=\"line2d_4\">\n      <g>\n       <use style=\"stroke:#000000;stroke-width:0.8;\" x=\"961.59625\" xlink:href=\"#md94f15be12\" y=\"880.759219\"/>\n      </g>\n     </g>\n     <g id=\"text_4\">\n      <!-- Var_1 -->\n      <g transform=\"translate(947.762656 895.079531)scale(0.1 -0.1)\">\n       <defs>\n        <path d=\"M 1831 0 \nL 50 4666 \nL 709 4666 \nL 2188 738 \nL 3669 4666 \nL 4325 4666 \nL 2547 0 \nL 1831 0 \nz\n\" id=\"DejaVuSans-56\" transform=\"scale(0.015625)\"/>\n        <path d=\"M 794 531 \nL 1825 531 \nL 1825 4091 \nL 703 3866 \nL 703 4441 \nL 1819 4666 \nL 2450 4666 \nL 2450 531 \nL 3481 531 \nL 3481 0 \nL 794 0 \nL 794 531 \nz\n\" id=\"DejaVuSans-31\" transform=\"scale(0.015625)\"/>\n       </defs>\n       <use xlink:href=\"#DejaVuSans-56\"/>\n       <use x=\"60.658203\" xlink:href=\"#DejaVuSans-61\"/>\n       <use x=\"121.9375\" xlink:href=\"#DejaVuSans-72\"/>\n       <use x=\"163.050781\" xlink:href=\"#DejaVuSans-5f\"/>\n       <use x=\"213.050781\" xlink:href=\"#DejaVuSans-31\"/>\n      </g>\n     </g>\n    </g>\n   </g>\n   <g id=\"matplotlib.axis_2\">\n    <g id=\"ytick_1\">\n     <g id=\"line2d_5\">\n      <defs>\n       <path d=\"M 0 0 \nL -3.5 0 \n\" id=\"m97616854c2\" style=\"stroke:#000000;stroke-width:0.8;\"/>\n      </defs>\n      <g>\n       <use style=\"stroke:#000000;stroke-width:0.8;\" x=\"24.15625\" xlink:href=\"#m97616854c2\" y=\"119.719219\"/>\n      </g>\n     </g>\n     <g id=\"text_5\">\n      <!-- Ever_Married -->\n      <g transform=\"translate(14.798438 181.504375)rotate(-90)scale(0.1 -0.1)\">\n       <use xlink:href=\"#DejaVuSans-45\"/>\n       <use x=\"63.183594\" xlink:href=\"#DejaVuSans-76\"/>\n       <use x=\"122.363281\" xlink:href=\"#DejaVuSans-65\"/>\n       <use x=\"183.886719\" xlink:href=\"#DejaVuSans-72\"/>\n       <use x=\"225\" xlink:href=\"#DejaVuSans-5f\"/>\n       <use x=\"275\" xlink:href=\"#DejaVuSans-4d\"/>\n       <use x=\"361.279297\" xlink:href=\"#DejaVuSans-61\"/>\n       <use x=\"422.558594\" xlink:href=\"#DejaVuSans-72\"/>\n       <use x=\"461.921875\" xlink:href=\"#DejaVuSans-72\"/>\n       <use x=\"503.035156\" xlink:href=\"#DejaVuSans-69\"/>\n       <use x=\"530.818359\" xlink:href=\"#DejaVuSans-65\"/>\n       <use x=\"592.341797\" xlink:href=\"#DejaVuSans-64\"/>\n      </g>\n     </g>\n    </g>\n    <g id=\"ytick_2\">\n     <g id=\"line2d_6\">\n      <g>\n       <use style=\"stroke:#000000;stroke-width:0.8;\" x=\"24.15625\" xlink:href=\"#m97616854c2\" y=\"337.159219\"/>\n      </g>\n     </g>\n     <g id=\"text_6\">\n      <!-- Graduated -->\n      <g transform=\"translate(15.076563 386.583437)rotate(-90)scale(0.1 -0.1)\">\n       <use xlink:href=\"#DejaVuSans-47\"/>\n       <use x=\"77.490234\" xlink:href=\"#DejaVuSans-72\"/>\n       <use x=\"118.603516\" xlink:href=\"#DejaVuSans-61\"/>\n       <use x=\"179.882812\" xlink:href=\"#DejaVuSans-64\"/>\n       <use x=\"243.359375\" xlink:href=\"#DejaVuSans-75\"/>\n       <use x=\"306.738281\" xlink:href=\"#DejaVuSans-61\"/>\n       <use x=\"368.017578\" xlink:href=\"#DejaVuSans-74\"/>\n       <use x=\"407.226562\" xlink:href=\"#DejaVuSans-65\"/>\n       <use x=\"468.75\" xlink:href=\"#DejaVuSans-64\"/>\n      </g>\n     </g>\n    </g>\n    <g id=\"ytick_3\">\n     <g id=\"line2d_7\">\n      <g>\n       <use style=\"stroke:#000000;stroke-width:0.8;\" x=\"24.15625\" xlink:href=\"#m97616854c2\" y=\"554.599219\"/>\n      </g>\n     </g>\n     <g id=\"text_7\">\n      <!-- Family_Size -->\n      <g transform=\"translate(14.798438 608.510937)rotate(-90)scale(0.1 -0.1)\">\n       <use xlink:href=\"#DejaVuSans-46\"/>\n       <use x=\"48.394531\" xlink:href=\"#DejaVuSans-61\"/>\n       <use x=\"109.673828\" xlink:href=\"#DejaVuSans-6d\"/>\n       <use x=\"207.085938\" xlink:href=\"#DejaVuSans-69\"/>\n       <use x=\"234.869141\" xlink:href=\"#DejaVuSans-6c\"/>\n       <use x=\"262.652344\" xlink:href=\"#DejaVuSans-79\"/>\n       <use x=\"321.832031\" xlink:href=\"#DejaVuSans-5f\"/>\n       <use x=\"371.832031\" xlink:href=\"#DejaVuSans-53\"/>\n       <use x=\"435.308594\" xlink:href=\"#DejaVuSans-69\"/>\n       <use x=\"463.091797\" xlink:href=\"#DejaVuSans-7a\"/>\n       <use x=\"515.582031\" xlink:href=\"#DejaVuSans-65\"/>\n      </g>\n     </g>\n    </g>\n    <g id=\"ytick_4\">\n     <g id=\"line2d_8\">\n      <g>\n       <use style=\"stroke:#000000;stroke-width:0.8;\" x=\"24.15625\" xlink:href=\"#m97616854c2\" y=\"772.039219\"/>\n      </g>\n     </g>\n     <g id=\"text_8\">\n      <!-- Var_1 -->\n      <g transform=\"translate(14.798438 796.04625)rotate(-90)scale(0.1 -0.1)\">\n       <use xlink:href=\"#DejaVuSans-56\"/>\n       <use x=\"60.658203\" xlink:href=\"#DejaVuSans-61\"/>\n       <use x=\"121.9375\" xlink:href=\"#DejaVuSans-72\"/>\n       <use x=\"163.050781\" xlink:href=\"#DejaVuSans-5f\"/>\n       <use x=\"213.050781\" xlink:href=\"#DejaVuSans-31\"/>\n      </g>\n     </g>\n    </g>\n   </g>\n   <g id=\"text_9\">\n    <!-- 1 -->\n    <g style=\"fill:#ffffff;\" transform=\"translate(154.895 122.478594)scale(0.1 -0.1)\">\n     <use xlink:href=\"#DejaVuSans-31\"/>\n    </g>\n   </g>\n   <g id=\"text_10\">\n    <!-- 0.16 -->\n    <g style=\"fill:#262626;\" transform=\"translate(414.783438 122.478594)scale(0.1 -0.1)\">\n     <defs>\n      <path d=\"M 2034 4250 \nQ 1547 4250 1301 3770 \nQ 1056 3291 1056 2328 \nQ 1056 1369 1301 889 \nQ 1547 409 2034 409 \nQ 2525 409 2770 889 \nQ 3016 1369 3016 2328 \nQ 3016 3291 2770 3770 \nQ 2525 4250 2034 4250 \nz\nM 2034 4750 \nQ 2819 4750 3233 4129 \nQ 3647 3509 3647 2328 \nQ 3647 1150 3233 529 \nQ 2819 -91 2034 -91 \nQ 1250 -91 836 529 \nQ 422 1150 422 2328 \nQ 422 3509 836 4129 \nQ 1250 4750 2034 4750 \nz\n\" id=\"DejaVuSans-30\" transform=\"scale(0.015625)\"/>\n      <path d=\"M 684 794 \nL 1344 794 \nL 1344 0 \nL 684 0 \nL 684 794 \nz\n\" id=\"DejaVuSans-2e\" transform=\"scale(0.015625)\"/>\n      <path d=\"M 2113 2584 \nQ 1688 2584 1439 2293 \nQ 1191 2003 1191 1497 \nQ 1191 994 1439 701 \nQ 1688 409 2113 409 \nQ 2538 409 2786 701 \nQ 3034 994 3034 1497 \nQ 3034 2003 2786 2293 \nQ 2538 2584 2113 2584 \nz\nM 3366 4563 \nL 3366 3988 \nQ 3128 4100 2886 4159 \nQ 2644 4219 2406 4219 \nQ 1781 4219 1451 3797 \nQ 1122 3375 1075 2522 \nQ 1259 2794 1537 2939 \nQ 1816 3084 2150 3084 \nQ 2853 3084 3261 2657 \nQ 3669 2231 3669 1497 \nQ 3669 778 3244 343 \nQ 2819 -91 2113 -91 \nQ 1303 -91 875 529 \nQ 447 1150 447 2328 \nQ 447 3434 972 4092 \nQ 1497 4750 2381 4750 \nQ 2619 4750 2861 4703 \nQ 3103 4656 3366 4563 \nz\n\" id=\"DejaVuSans-36\" transform=\"scale(0.015625)\"/>\n     </defs>\n     <use xlink:href=\"#DejaVuSans-30\"/>\n     <use x=\"63.623047\" xlink:href=\"#DejaVuSans-2e\"/>\n     <use x=\"95.410156\" xlink:href=\"#DejaVuSans-31\"/>\n     <use x=\"159.033203\" xlink:href=\"#DejaVuSans-36\"/>\n    </g>\n   </g>\n   <g id=\"text_11\">\n    <!-- -0.066 -->\n    <g style=\"fill:#ffffff;\" transform=\"translate(677.638281 122.478594)scale(0.1 -0.1)\">\n     <defs>\n      <path d=\"M 313 2009 \nL 1997 2009 \nL 1997 1497 \nL 313 1497 \nL 313 2009 \nz\n\" id=\"DejaVuSans-2d\" transform=\"scale(0.015625)\"/>\n     </defs>\n     <use xlink:href=\"#DejaVuSans-2d\"/>\n     <use x=\"36.083984\" xlink:href=\"#DejaVuSans-30\"/>\n     <use x=\"99.707031\" xlink:href=\"#DejaVuSans-2e\"/>\n     <use x=\"131.494141\" xlink:href=\"#DejaVuSans-30\"/>\n     <use x=\"195.117188\" xlink:href=\"#DejaVuSans-36\"/>\n     <use x=\"258.740234\" xlink:href=\"#DejaVuSans-36\"/>\n    </g>\n   </g>\n   <g id=\"text_12\">\n    <!-- 0.059 -->\n    <g style=\"fill:#ffffff;\" transform=\"translate(947.282188 122.478594)scale(0.1 -0.1)\">\n     <defs>\n      <path d=\"M 691 4666 \nL 3169 4666 \nL 3169 4134 \nL 1269 4134 \nL 1269 2991 \nQ 1406 3038 1543 3061 \nQ 1681 3084 1819 3084 \nQ 2600 3084 3056 2656 \nQ 3513 2228 3513 1497 \nQ 3513 744 3044 326 \nQ 2575 -91 1722 -91 \nQ 1428 -91 1123 -41 \nQ 819 9 494 109 \nL 494 744 \nQ 775 591 1075 516 \nQ 1375 441 1709 441 \nQ 2250 441 2565 725 \nQ 2881 1009 2881 1497 \nQ 2881 1984 2565 2268 \nQ 2250 2553 1709 2553 \nQ 1456 2553 1204 2497 \nQ 953 2441 691 2322 \nL 691 4666 \nz\n\" id=\"DejaVuSans-35\" transform=\"scale(0.015625)\"/>\n      <path d=\"M 703 97 \nL 703 672 \nQ 941 559 1184 500 \nQ 1428 441 1663 441 \nQ 2288 441 2617 861 \nQ 2947 1281 2994 2138 \nQ 2813 1869 2534 1725 \nQ 2256 1581 1919 1581 \nQ 1219 1581 811 2004 \nQ 403 2428 403 3163 \nQ 403 3881 828 4315 \nQ 1253 4750 1959 4750 \nQ 2769 4750 3195 4129 \nQ 3622 3509 3622 2328 \nQ 3622 1225 3098 567 \nQ 2575 -91 1691 -91 \nQ 1453 -91 1209 -44 \nQ 966 3 703 97 \nz\nM 1959 2075 \nQ 2384 2075 2632 2365 \nQ 2881 2656 2881 3163 \nQ 2881 3666 2632 3958 \nQ 2384 4250 1959 4250 \nQ 1534 4250 1286 3958 \nQ 1038 3666 1038 3163 \nQ 1038 2656 1286 2365 \nQ 1534 2075 1959 2075 \nz\n\" id=\"DejaVuSans-39\" transform=\"scale(0.015625)\"/>\n     </defs>\n     <use xlink:href=\"#DejaVuSans-30\"/>\n     <use x=\"63.623047\" xlink:href=\"#DejaVuSans-2e\"/>\n     <use x=\"95.410156\" xlink:href=\"#DejaVuSans-30\"/>\n     <use x=\"159.033203\" xlink:href=\"#DejaVuSans-35\"/>\n     <use x=\"222.65625\" xlink:href=\"#DejaVuSans-39\"/>\n    </g>\n   </g>\n   <g id=\"text_13\">\n    <!-- 0.16 -->\n    <g style=\"fill:#262626;\" transform=\"translate(146.943438 339.918594)scale(0.1 -0.1)\">\n     <use xlink:href=\"#DejaVuSans-30\"/>\n     <use x=\"63.623047\" xlink:href=\"#DejaVuSans-2e\"/>\n     <use x=\"95.410156\" xlink:href=\"#DejaVuSans-31\"/>\n     <use x=\"159.033203\" xlink:href=\"#DejaVuSans-36\"/>\n    </g>\n   </g>\n   <g id=\"text_14\">\n    <!-- 1 -->\n    <g style=\"fill:#ffffff;\" transform=\"translate(422.735 339.918594)scale(0.1 -0.1)\">\n     <use xlink:href=\"#DejaVuSans-31\"/>\n    </g>\n   </g>\n   <g id=\"text_15\">\n    <!-- -0.21 -->\n    <g style=\"fill:#ffffff;\" transform=\"translate(680.819531 339.918594)scale(0.1 -0.1)\">\n     <defs>\n      <path d=\"M 1228 531 \nL 3431 531 \nL 3431 0 \nL 469 0 \nL 469 531 \nQ 828 903 1448 1529 \nQ 2069 2156 2228 2338 \nQ 2531 2678 2651 2914 \nQ 2772 3150 2772 3378 \nQ 2772 3750 2511 3984 \nQ 2250 4219 1831 4219 \nQ 1534 4219 1204 4116 \nQ 875 4013 500 3803 \nL 500 4441 \nQ 881 4594 1212 4672 \nQ 1544 4750 1819 4750 \nQ 2544 4750 2975 4387 \nQ 3406 4025 3406 3419 \nQ 3406 3131 3298 2873 \nQ 3191 2616 2906 2266 \nQ 2828 2175 2409 1742 \nQ 1991 1309 1228 531 \nz\n\" id=\"DejaVuSans-32\" transform=\"scale(0.015625)\"/>\n     </defs>\n     <use xlink:href=\"#DejaVuSans-2d\"/>\n     <use x=\"36.083984\" xlink:href=\"#DejaVuSans-30\"/>\n     <use x=\"99.707031\" xlink:href=\"#DejaVuSans-2e\"/>\n     <use x=\"131.494141\" xlink:href=\"#DejaVuSans-32\"/>\n     <use x=\"195.117188\" xlink:href=\"#DejaVuSans-31\"/>\n    </g>\n   </g>\n   <g id=\"text_16\">\n    <!-- 0.11 -->\n    <g style=\"fill:#262626;\" transform=\"translate(950.463438 339.918594)scale(0.1 -0.1)\">\n     <use xlink:href=\"#DejaVuSans-30\"/>\n     <use x=\"63.623047\" xlink:href=\"#DejaVuSans-2e\"/>\n     <use x=\"95.410156\" xlink:href=\"#DejaVuSans-31\"/>\n     <use x=\"159.033203\" xlink:href=\"#DejaVuSans-31\"/>\n    </g>\n   </g>\n   <g id=\"text_17\">\n    <!-- -0.066 -->\n    <g style=\"fill:#ffffff;\" transform=\"translate(141.958281 557.358594)scale(0.1 -0.1)\">\n     <use xlink:href=\"#DejaVuSans-2d\"/>\n     <use x=\"36.083984\" xlink:href=\"#DejaVuSans-30\"/>\n     <use x=\"99.707031\" xlink:href=\"#DejaVuSans-2e\"/>\n     <use x=\"131.494141\" xlink:href=\"#DejaVuSans-30\"/>\n     <use x=\"195.117188\" xlink:href=\"#DejaVuSans-36\"/>\n     <use x=\"258.740234\" xlink:href=\"#DejaVuSans-36\"/>\n    </g>\n   </g>\n   <g id=\"text_18\">\n    <!-- -0.21 -->\n    <g style=\"fill:#ffffff;\" transform=\"translate(412.979531 557.358594)scale(0.1 -0.1)\">\n     <use xlink:href=\"#DejaVuSans-2d\"/>\n     <use x=\"36.083984\" xlink:href=\"#DejaVuSans-30\"/>\n     <use x=\"99.707031\" xlink:href=\"#DejaVuSans-2e\"/>\n     <use x=\"131.494141\" xlink:href=\"#DejaVuSans-32\"/>\n     <use x=\"195.117188\" xlink:href=\"#DejaVuSans-31\"/>\n    </g>\n   </g>\n   <g id=\"text_19\">\n    <!-- 1 -->\n    <g style=\"fill:#ffffff;\" transform=\"translate(690.575 557.358594)scale(0.1 -0.1)\">\n     <use xlink:href=\"#DejaVuSans-31\"/>\n    </g>\n   </g>\n   <g id=\"text_20\">\n    <!-- -0.14 -->\n    <g style=\"fill:#ffffff;\" transform=\"translate(948.659531 557.358594)scale(0.1 -0.1)\">\n     <defs>\n      <path d=\"M 2419 4116 \nL 825 1625 \nL 2419 1625 \nL 2419 4116 \nz\nM 2253 4666 \nL 3047 4666 \nL 3047 1625 \nL 3713 1625 \nL 3713 1100 \nL 3047 1100 \nL 3047 0 \nL 2419 0 \nL 2419 1100 \nL 313 1100 \nL 313 1709 \nL 2253 4666 \nz\n\" id=\"DejaVuSans-34\" transform=\"scale(0.015625)\"/>\n     </defs>\n     <use xlink:href=\"#DejaVuSans-2d\"/>\n     <use x=\"36.083984\" xlink:href=\"#DejaVuSans-30\"/>\n     <use x=\"99.707031\" xlink:href=\"#DejaVuSans-2e\"/>\n     <use x=\"131.494141\" xlink:href=\"#DejaVuSans-31\"/>\n     <use x=\"195.117188\" xlink:href=\"#DejaVuSans-34\"/>\n    </g>\n   </g>\n   <g id=\"text_21\">\n    <!-- 0.059 -->\n    <g style=\"fill:#ffffff;\" transform=\"translate(143.762188 774.798594)scale(0.1 -0.1)\">\n     <use xlink:href=\"#DejaVuSans-30\"/>\n     <use x=\"63.623047\" xlink:href=\"#DejaVuSans-2e\"/>\n     <use x=\"95.410156\" xlink:href=\"#DejaVuSans-30\"/>\n     <use x=\"159.033203\" xlink:href=\"#DejaVuSans-35\"/>\n     <use x=\"222.65625\" xlink:href=\"#DejaVuSans-39\"/>\n    </g>\n   </g>\n   <g id=\"text_22\">\n    <!-- 0.11 -->\n    <g style=\"fill:#262626;\" transform=\"translate(414.783438 774.798594)scale(0.1 -0.1)\">\n     <use xlink:href=\"#DejaVuSans-30\"/>\n     <use x=\"63.623047\" xlink:href=\"#DejaVuSans-2e\"/>\n     <use x=\"95.410156\" xlink:href=\"#DejaVuSans-31\"/>\n     <use x=\"159.033203\" xlink:href=\"#DejaVuSans-31\"/>\n    </g>\n   </g>\n   <g id=\"text_23\">\n    <!-- -0.14 -->\n    <g style=\"fill:#ffffff;\" transform=\"translate(680.819531 774.798594)scale(0.1 -0.1)\">\n     <use xlink:href=\"#DejaVuSans-2d\"/>\n     <use x=\"36.083984\" xlink:href=\"#DejaVuSans-30\"/>\n     <use x=\"99.707031\" xlink:href=\"#DejaVuSans-2e\"/>\n     <use x=\"131.494141\" xlink:href=\"#DejaVuSans-31\"/>\n     <use x=\"195.117188\" xlink:href=\"#DejaVuSans-34\"/>\n    </g>\n   </g>\n   <g id=\"text_24\">\n    <!-- 1 -->\n    <g style=\"fill:#ffffff;\" transform=\"translate(958.415 774.798594)scale(0.1 -0.1)\">\n     <use xlink:href=\"#DejaVuSans-31\"/>\n    </g>\n   </g>\n  </g>\n  <g id=\"axes_2\">\n   <g id=\"patch_3\">\n    <path d=\"M 1162.47625 880.759219 \nL 1205.96425 880.759219 \nL 1205.96425 10.999219 \nL 1162.47625 10.999219 \nz\n\" style=\"fill:#ffffff;\"/>\n   </g>\n   <g id=\"patch_4\">\n    <path clip-path=\"url(#pe3798a5e77)\" d=\"M 1162.47625 880.759219 \nL 1162.47625 877.361719 \nL 1162.47625 14.396719 \nL 1162.47625 10.999219 \nL 1205.96425 10.999219 \nL 1205.96425 14.396719 \nL 1205.96425 877.361719 \nL 1205.96425 880.759219 \nL 1205.96425 880.759219 \nz\n\" style=\"fill:#ffffff;stroke:#ffffff;stroke-linejoin:miter;stroke-width:0.01;\"/>\n   </g>\n   <image height=\"870\" id=\"image23244e8a6c\" transform=\"scale(1 -1)translate(0 -870)\" width=\"44\" x=\"1162\" xlink:href=\"data:image/png;base64,\niVBORw0KGgoAAAANSUhEUgAAACwAAANmCAYAAACBr2mWAAAFVklEQVR4nO3c0Y3cMBAFQUlgVk7BQTuvs1eO4T4ahwdURdBYEMNZ7tn3r99/3mvI89MB3yW4du5nq3mr9hoMPvdz/3TDt8x9wnPB5763mrdqL8E9Y602F2z5qQmuncdYa80F29Zqc8GWn5rgmm2tNhdsrNUE185jW2vNBRtrtblgR6ImuOZdojYXbKzVBNfO412iNRd87ttYS80Fu+lqgmvOcG0u2OtlTXDNWKvNBTsStblg3+lqgmv+WLQ2F+yvqmpzwW66muCaBb42F2z5qQmuuZprc8Fuutpc8HlMiZbgmrFWmwt2JGqCaxb42lywd4naXLApURNcs63V5oLP2InY+4QF14y12lywI1GbC/YCXxNcM9Zqc8FnbKrtfcKCa55ba3PBnltrc8EW+Jrg2hn7p/l7n/BcsJuuJrhmga/NBXuXqM0Fe72sCa75e4naXLAFvia4dsb+x5G9T3gu2FirzQV7vawJrvkVqTYX7KmqJrjmDNfmgv0oU5sLNiVqgmte4GtzwX5YrAmuuZprc8FuutpcsClRE1zzW3NtLthYqwmu+XuJ2lywBb42F+ymqwmuOcO1uWDf6WqCa8ZabS7YAl+bCzYlaoJrznBtLthNVxNcM9Zqc8Hnvt+fbviWuU94LthNVxNcc9PV5oIdiZrg2nlsa625YGOtNhfsSNQE13wJrc0Fn/uy/KQE11zNtblgN11tLtiPMjXBNTddbS74PBb4luCasVabC7at1eaCfaerCa55bq3NBVt+aoJrtrXaXLB3idpcsJuuJrjmpqvNBftOV5sL9lRVE1wz1mpzwZafmuCasVabCzbWanPBZ614rVdwzlirzQVbfmqCa8ZabS7YWKvNBZsSNcE1Y602F+yvqmqCa67m2lywm642F+xI1ATXnOHaXLDlpya4ZqzV5oIdidpcsCNRE1xzhmtzwee+Pj/d8C1zn7Dgmi+htbngc7+ORGou2PJTE1w792tbS80FG2s1wTVjrTYXbKzV5oJNiZrgmrFWmwv2VFUTXHM11+aC3XS1uWBToia4ZlurzQX7E5qa4Nq5jLXWXLBtrTYX7DtdTXDNWKvNBVt+aoJrxlptLthTVW0u+FymREtwzU1Xmwv2LlETXHM11+aCLfC1uWBToia45rm1NhfsO11NcM1Yq80FG2u1uWALfE1wzbtEbS74XB9jLSW4ZoGvzQXb1mpzwZafmuCasVabC3YkaoJrrubaXLB3idpcsK/5NcE121ptLthYqwmu2dZqc8FuutpcsJuuJrjmpqvNBRtrNcE121ptLvhcH2MtNRdsStQE1yzwtblgC3xNcM3VXJsLtsDX5oLPa0q0BNeMtdpcsOWnNhd8Xl/zW4Jr3iVqc8FeL2uCa8ZabS7YtlabC/Y1vya45rm1NhdsrNUE1zy31uaCz2usteaCPVXVBNfO66mqNRdsrNUE12xrtblg3+lqc8GmRE1wzQ+LtblgL/A1wTU/LNbmgm1rtblgT1U1wTVjrTYX7DtdTXDND4u1uWDbWm0u2PJTE1xzhmtzwRb4muCasVabCzbWanPBpkRNcM1/11CbC3bT1QTXXM21uWBjrTYXbErUBNec4dpcsJuuJrhmrNXmgs/nnyORmgt209UE19x0tblgR6ImuOYM1+aCbWu1uWBToia45l2iNhdsrNUE12xrtblgY602F2z5qQmuGWu1uWDLT01w7byu5tZcsG2tNhds+akJrhlrtbng8/6zwKcE11zNtblgN11tLtjX/Jrg2vn8dYZTc8Hn/XIkUoJrxlptLthYq80FmxI1wbXzfnluTc0FG2s1wTXbWm0u+D+RHVy2UQ7MxgAAAABJRU5ErkJggg==\" y=\"-10\"/>\n   <g id=\"matplotlib.axis_3\"/>\n   <g id=\"matplotlib.axis_4\">\n    <g id=\"ytick_5\">\n     <g id=\"line2d_9\">\n      <defs>\n       <path d=\"M 0 0 \nL 3.5 0 \n\" id=\"md5341a5d6c\" style=\"stroke:#000000;stroke-width:0.8;\"/>\n      </defs>\n      <g>\n       <use style=\"stroke:#000000;stroke-width:0.8;\" x=\"1205.96425\" xlink:href=\"#md5341a5d6c\" y=\"871.679704\"/>\n      </g>\n     </g>\n     <g id=\"text_25\">\n      <!-- −0.2 -->\n      <g transform=\"translate(1212.96425 875.478923)scale(0.1 -0.1)\">\n       <defs>\n        <path d=\"M 678 2272 \nL 4684 2272 \nL 4684 1741 \nL 678 1741 \nL 678 2272 \nz\n\" id=\"DejaVuSans-2212\" transform=\"scale(0.015625)\"/>\n       </defs>\n       <use xlink:href=\"#DejaVuSans-2212\"/>\n       <use x=\"83.789062\" xlink:href=\"#DejaVuSans-30\"/>\n       <use x=\"147.412109\" xlink:href=\"#DejaVuSans-2e\"/>\n       <use x=\"179.199219\" xlink:href=\"#DejaVuSans-32\"/>\n      </g>\n     </g>\n    </g>\n    <g id=\"ytick_6\">\n     <g id=\"line2d_10\">\n      <g>\n       <use style=\"stroke:#000000;stroke-width:0.8;\" x=\"1205.96425\" xlink:href=\"#md5341a5d6c\" y=\"728.232957\"/>\n      </g>\n     </g>\n     <g id=\"text_26\">\n      <!-- 0.0 -->\n      <g transform=\"translate(1212.96425 732.032175)scale(0.1 -0.1)\">\n       <use xlink:href=\"#DejaVuSans-30\"/>\n       <use x=\"63.623047\" xlink:href=\"#DejaVuSans-2e\"/>\n       <use x=\"95.410156\" xlink:href=\"#DejaVuSans-30\"/>\n      </g>\n     </g>\n    </g>\n    <g id=\"ytick_7\">\n     <g id=\"line2d_11\">\n      <g>\n       <use style=\"stroke:#000000;stroke-width:0.8;\" x=\"1205.96425\" xlink:href=\"#md5341a5d6c\" y=\"584.786209\"/>\n      </g>\n     </g>\n     <g id=\"text_27\">\n      <!-- 0.2 -->\n      <g transform=\"translate(1212.96425 588.585428)scale(0.1 -0.1)\">\n       <use xlink:href=\"#DejaVuSans-30\"/>\n       <use x=\"63.623047\" xlink:href=\"#DejaVuSans-2e\"/>\n       <use x=\"95.410156\" xlink:href=\"#DejaVuSans-32\"/>\n      </g>\n     </g>\n    </g>\n    <g id=\"ytick_8\">\n     <g id=\"line2d_12\">\n      <g>\n       <use style=\"stroke:#000000;stroke-width:0.8;\" x=\"1205.96425\" xlink:href=\"#md5341a5d6c\" y=\"441.339462\"/>\n      </g>\n     </g>\n     <g id=\"text_28\">\n      <!-- 0.4 -->\n      <g transform=\"translate(1212.96425 445.13868)scale(0.1 -0.1)\">\n       <use xlink:href=\"#DejaVuSans-30\"/>\n       <use x=\"63.623047\" xlink:href=\"#DejaVuSans-2e\"/>\n       <use x=\"95.410156\" xlink:href=\"#DejaVuSans-34\"/>\n      </g>\n     </g>\n    </g>\n    <g id=\"ytick_9\">\n     <g id=\"line2d_13\">\n      <g>\n       <use style=\"stroke:#000000;stroke-width:0.8;\" x=\"1205.96425\" xlink:href=\"#md5341a5d6c\" y=\"297.892714\"/>\n      </g>\n     </g>\n     <g id=\"text_29\">\n      <!-- 0.6 -->\n      <g transform=\"translate(1212.96425 301.691933)scale(0.1 -0.1)\">\n       <use xlink:href=\"#DejaVuSans-30\"/>\n       <use x=\"63.623047\" xlink:href=\"#DejaVuSans-2e\"/>\n       <use x=\"95.410156\" xlink:href=\"#DejaVuSans-36\"/>\n      </g>\n     </g>\n    </g>\n    <g id=\"ytick_10\">\n     <g id=\"line2d_14\">\n      <g>\n       <use style=\"stroke:#000000;stroke-width:0.8;\" x=\"1205.96425\" xlink:href=\"#md5341a5d6c\" y=\"154.445966\"/>\n      </g>\n     </g>\n     <g id=\"text_30\">\n      <!-- 0.8 -->\n      <g transform=\"translate(1212.96425 158.245185)scale(0.1 -0.1)\">\n       <defs>\n        <path d=\"M 2034 2216 \nQ 1584 2216 1326 1975 \nQ 1069 1734 1069 1313 \nQ 1069 891 1326 650 \nQ 1584 409 2034 409 \nQ 2484 409 2743 651 \nQ 3003 894 3003 1313 \nQ 3003 1734 2745 1975 \nQ 2488 2216 2034 2216 \nz\nM 1403 2484 \nQ 997 2584 770 2862 \nQ 544 3141 544 3541 \nQ 544 4100 942 4425 \nQ 1341 4750 2034 4750 \nQ 2731 4750 3128 4425 \nQ 3525 4100 3525 3541 \nQ 3525 3141 3298 2862 \nQ 3072 2584 2669 2484 \nQ 3125 2378 3379 2068 \nQ 3634 1759 3634 1313 \nQ 3634 634 3220 271 \nQ 2806 -91 2034 -91 \nQ 1263 -91 848 271 \nQ 434 634 434 1313 \nQ 434 1759 690 2068 \nQ 947 2378 1403 2484 \nz\nM 1172 3481 \nQ 1172 3119 1398 2916 \nQ 1625 2713 2034 2713 \nQ 2441 2713 2670 2916 \nQ 2900 3119 2900 3481 \nQ 2900 3844 2670 4047 \nQ 2441 4250 2034 4250 \nQ 1625 4250 1398 4047 \nQ 1172 3844 1172 3481 \nz\n\" id=\"DejaVuSans-38\" transform=\"scale(0.015625)\"/>\n       </defs>\n       <use xlink:href=\"#DejaVuSans-30\"/>\n       <use x=\"63.623047\" xlink:href=\"#DejaVuSans-2e\"/>\n       <use x=\"95.410156\" xlink:href=\"#DejaVuSans-38\"/>\n      </g>\n     </g>\n    </g>\n    <g id=\"ytick_11\">\n     <g id=\"line2d_15\">\n      <g>\n       <use style=\"stroke:#000000;stroke-width:0.8;\" x=\"1205.96425\" xlink:href=\"#md5341a5d6c\" y=\"10.999219\"/>\n      </g>\n     </g>\n     <g id=\"text_31\">\n      <!-- 1.0 -->\n      <g transform=\"translate(1212.96425 14.798437)scale(0.1 -0.1)\">\n       <use xlink:href=\"#DejaVuSans-31\"/>\n       <use x=\"63.623047\" xlink:href=\"#DejaVuSans-2e\"/>\n       <use x=\"95.410156\" xlink:href=\"#DejaVuSans-30\"/>\n      </g>\n     </g>\n    </g>\n   </g>\n   <g id=\"LineCollection_1\"/>\n   <g id=\"patch_5\">\n    <path d=\"M 1162.47625 880.759219 \nL 1162.47625 877.361719 \nL 1162.47625 14.396719 \nL 1162.47625 10.999219 \nL 1205.96425 10.999219 \nL 1205.96425 14.396719 \nL 1205.96425 877.361719 \nL 1205.96425 880.759219 \nz\n\" style=\"fill:none;\"/>\n   </g>\n  </g>\n </g>\n <defs>\n  <clipPath id=\"p05798390a3\">\n   <rect height=\"869.76\" width=\"1071.36\" x=\"24.15625\" y=\"10.999219\"/>\n  </clipPath>\n  <clipPath id=\"pe3798a5e77\">\n   <rect height=\"869.76\" width=\"43.488\" x=\"1162.47625\" y=\"10.999219\"/>\n  </clipPath>\n </defs>\n</svg>\n",
      "image/png": "[encoded data removed]"
     },
     "metadata": {
      "needs_background": "light"
     }
    }
   ],
   "metadata": {}
  },
  {
   "cell_type": "markdown",
   "source": [
    "Not great features here, but lets see how we go...  \n",
    "The only ones that look reasonable are Gender, Ever_Married, Agem Graduated and maybe Work_Experience. You usually prefer these to be above 0.3."
   ],
   "metadata": {}
  },
  {
   "cell_type": "markdown",
   "source": [
    "# Get X/Y into arrays\n",
    "\n",
    "Now copy out our X and y columns into matrix's for easier matrix manipulation later."
   ],
   "metadata": {}
  },
  {
   "cell_type": "code",
   "execution_count": 12,
   "source": [
    "X = df.to_numpy()  # np.matrix(df.to_numpy())\n",
    "y = Y.to_numpy().transpose()  # np.matrix(Y.to_numpy()).transpose()\n",
    "\n",
    "m,n = X.shape"
   ],
   "outputs": [],
   "metadata": {}
  },
  {
   "cell_type": "markdown",
   "source": [
    "# Normalise X  \n",
    "\n",
    "Now, lets normalise X so the values lie between -1 and 1. We do this so we can get all features into a similar range. We use the following equation  \n",
    "\n",
    "$X_{(i)} = \\frac{x_{(i)}-mean(x)}{max(x)-min(x)}$  \n",
    "  \n",
    "The goal to perform standardization is to bring down all the features to a common scale without distorting the differences in the range of the values. This process of rescaling the features is so that they have mean as 0 and variance as 1.\n"
   ],
   "metadata": {}
  },
  {
   "cell_type": "code",
   "execution_count": 13,
   "source": [
    "mu = X.mean(0) # \n",
    "sigma = X.std(0) # standard deviation: max(x)-min(x)\n",
    "xn = (X - mu) / sigma"
   ],
   "outputs": [],
   "metadata": {}
  },
  {
   "cell_type": "markdown",
   "source": [
    "Add a column of ones to X for easier matrix manipulation of our hypothesis and cost function later"
   ],
   "metadata": {}
  },
  {
   "cell_type": "code",
   "execution_count": 14,
   "source": [
    "xo = np.hstack((np.ones((m, 1)), xn))"
   ],
   "outputs": [],
   "metadata": {}
  },
  {
   "cell_type": "markdown",
   "source": [
    "# Setup our neural network\n",
    "\n",
    "Then, we can setup the sizes of our neural network, first, below is the neural network we want to put together.  \n",
    "![title](neuralnetwork.png)"
   ],
   "metadata": {}
  },
  {
   "cell_type": "markdown",
   "source": [
    "Below initialisations, ensure above network is achieved. So, now you are asking \"What are reasonable numbers to set these to?\"  \n",
    "  \n",
    "`Input layer`   = set to the size of the dimensions  \n",
    "`Hidden layers` = set to input_layer * 2  \n",
    "`Output layer`  = set to the size of the labels of Y. In our case, this is 7 categories  \n"
   ],
   "metadata": {}
  },
  {
   "cell_type": "code",
   "execution_count": 15,
   "source": [
    "input_layer_size = n                    # Dimension of features\n",
    "hidden_layer_size = input_layer_size*2  # of units in hidden layer \n",
    "output_layer_size = len(yle.classes_)     # number of labels"
   ],
   "outputs": [],
   "metadata": {}
  },
  {
   "cell_type": "markdown",
   "source": [
    "# Initialise weights  \n",
    "\n",
    "Now, we can initialise our weights to random small values (remember these are also called theta’s). For gradient descent, its OK to initalise to zero's, but for neural networks, it works out better if we initialise our weights to some random values. Here we develop a handy function to perform the initialization.  "
   ],
   "metadata": {}
  },
  {
   "cell_type": "code",
   "execution_count": 16,
   "source": [
    "def initializeWeights(L_in, L_out):\n",
    "    epsilon_init = 0.12\n",
    "    W = np.random.rand(L_out, 1 + L_in) * 2 * epsilon_init - epsilon_init\n",
    "    return W"
   ],
   "outputs": [],
   "metadata": {}
  },
  {
   "cell_type": "code",
   "execution_count": 17,
   "source": [
    "initial_Theta1 = initializeWeights(input_layer_size, hidden_layer_size)\n",
    "initial_Theta2 = initializeWeights(hidden_layer_size, output_layer_size)\n",
    "nn_params = np.concatenate((initial_Theta1.flatten(), initial_Theta2.flatten()), axis=None)"
   ],
   "outputs": [],
   "metadata": {}
  },
  {
   "cell_type": "markdown",
   "source": [
    "# Sigmoid functions  \n",
    "\n",
    "Since we are doing classification, we will use sigmoid to evaluate our predictions. A sigmoid function is a mathematical function having a characteristic \"S\"-shaped curve or sigmoid curve. A common example of a sigmoid function is the logistic function shown in the first figure and defined by the formula  \n",
    "\n",
    "$$sigmoid(z) = g(z) = \\frac{1}{1 + e^{-z}}$$\n",
    "$$g'(z) = \\frac{d}{dz}g(z) = g(z)\\left(1 - g(z)\\right)$$\n",
    "\n",
    "In checknn.py the following handy functions are created:  \n",
    "  \n",
    "- sigmoid is a handy function to compute sigmoid of input parameter Z\n",
    "- sigmoidGradient computes the gradient of the sigmoid function evaluated at z. This should work regardless if z is a matrix or a vector."
   ],
   "metadata": {}
  },
  {
   "cell_type": "markdown",
   "source": [
    "# Regularization  \n",
    "\n",
    "We will implement regularization as one of the most common problems data science professionals face is to avoid overfitting. Overfitting gives you a situation where your model performed exceptionally well on train data but was not able to predict test data. Neural network are complex and makes them more prone to overfitting. Regularization is a technique which makes slight modifications to the learning algorithm such that the model generalizes better. This in turn improves the model’s performance on the unseen data as well.  \n",
    "\n",
    "If you have studied the concept of regularization in machine learning, you will have a fair idea that regularization penalizes the coefficients. In deep learning, it actually penalizes the weight matrices of the nodes.  \n",
    "We implement regularization in nnCostFunction by passing in a lambda which us used to penalise both the gradients and costs that are calculated. "
   ],
   "metadata": {}
  },
  {
   "cell_type": "markdown",
   "source": [
    "# Cost function  \n",
    "\n",
    "We need a function which can implements the neural network cost function for a two layer neural network which performs classification.  \n",
    "In checknn.py out costfunction will return  \n",
    "\n",
    "- gradient should be a \"unrolled\" vector of the partial derivatives of the neural network  \n",
    "- the final J which is the cost of this weight.   \n",
    "\n",
    "Our cost function will do the following:  \n",
    "\n",
    "- Reshape nn_params back into the parameters Theta1 and Theta2, the weight matrices for our 2 layer neural network\n",
    "- Perform forward propagation to calculate (a) and (z)\n",
    "$${\\left(\\Theta_{ji}^{(l)}\\right)^2} = -\\frac{1}{m}trace\\left(y^T\\log\\left(h_\\Theta(X)\\right) + ({\\bf1} - y)^T\\log\\left({\\bf1} - h_\\Theta(X)\\right)\\right) + \\frac{\\lambda}{2m}\\sum_{l=1}^{L-1}\\sum_{i=1}^{s_l}\\sum_{j=1}^{s_{l+1}}{\\left(\\Theta_{ji}^{(l)}\\right)^2}$$ \n",
    "- Calculate the cost of our forward propagation into J and apply regularization \n",
    "$$J(\\theta) = -\\frac{1}{m}\\left[\\sum_{i=1}^{m}\\sum_{k=1}^{K}{y_k^{(i)}\\log\\left(h_\\Theta(x^{(i)})_k\\right) + (1 - y_k^{(i)})\\log\\left(1 - h_\\Theta(x^{(i)})_k\\right)}\\right] + \\frac{\\lambda}{2m}\\sum_{l=1}^{L-1}\\sum_{i=1}^{s_l}\\sum_{j=1}^{s_{l+1}}$$  \n",
    "- Perform backward propagation to calculate (s) and apply regularization \n",
    "$$\\Delta_{ij}^{(l)} = \\sum_m{a_j^{(l)}\\delta_i^{(l+1)}}$$\n",
    "$$D^{(l)} = \\frac{1}{m}\\Delta^{(l)} + \\frac{\\lambda}{m}\\Theta^{(l)}$$"
   ],
   "metadata": {}
  },
  {
   "cell_type": "markdown",
   "source": [
    "# Checking our forward/backward propagation  \n",
    "\n",
    "One difficult thing to understand is if our cost function is performing well. A good method to check this is to run a function called checknn.  \n",
    "Creates a small neural network to check the backpropagation gradients, it will output the analytical gradients produced by your backprop code and the numerical gradients (computed using computeNumericalGradient). These two gradient computations should result in very similar values.  \n",
    "\n",
    "If you want to delve more into the theory behind this technique, it is tought in Andrew Ng's machine learning course, week 4.  \n",
    "You do not need to run this every time, just when you have setup your network.  "
   ],
   "metadata": {}
  },
  {
   "cell_type": "code",
   "execution_count": 18,
   "source": [
    "from checknn import *\n",
    "\n",
    "print('Checking Backpropagation... ')\n",
    "# Weight regularization parameter (we set this to 1 here).\n",
    "lambda_ = 1\n",
    "#  Check gradients by running checkNNGradients\n",
    "checkNNGradients(lambda_)"
   ],
   "outputs": [
    {
     "output_type": "stream",
     "name": "stdout",
     "text": [
      "Checking Backpropagation... \n",
      "[[ 0.01231622  0.01231622]\n",
      " [ 0.01835978  0.01835978]\n",
      " [ 0.00308386  0.00308386]\n",
      " [-0.01502735 -0.01502735]\n",
      " [ 0.00392471  0.00392471]\n",
      " [-0.00539821 -0.00539821]\n",
      " [ 0.013362    0.013362  ]\n",
      " [ 0.01983725  0.01983725]\n",
      " [-0.00808459 -0.00808459]\n",
      " [-0.01084911 -0.01084911]\n",
      " [-0.02002159 -0.02002159]\n",
      " [-0.01078632 -0.01078632]\n",
      " [-0.01266691 -0.01266691]\n",
      " [ 0.01965602  0.01965602]\n",
      " [ 0.01276025  0.01276025]\n",
      " [-0.00586723 -0.00586723]\n",
      " [-0.00559343 -0.00559343]\n",
      " [-0.01521978 -0.01521978]\n",
      " [ 0.00275391  0.00275391]\n",
      " [ 0.01819567  0.01819567]\n",
      " [ 0.30934772  0.30934772]\n",
      " [ 0.17925309  0.17925309]\n",
      " [ 0.14985892  0.14985892]\n",
      " [ 0.14313253  0.14313253]\n",
      " [ 0.13843822  0.13843822]\n",
      " [ 0.14164805  0.14164805]\n",
      " [ 0.108133    0.108133  ]\n",
      " [ 0.07595054  0.07595054]\n",
      " [ 0.06019342  0.06019342]\n",
      " [ 0.04385492  0.04385492]\n",
      " [ 0.03530847  0.03530847]\n",
      " [ 0.0410438   0.0410438 ]\n",
      " [ 0.10627037  0.10627037]\n",
      " [ 0.07557325  0.07557325]\n",
      " [ 0.06356257  0.06356257]\n",
      " [ 0.04812245  0.04812245]\n",
      " [ 0.03551277  0.03551277]\n",
      " [ 0.03527321  0.03527321]]\n",
      "The above two columns you get should be very similar.\n",
      "(Left-Your Numerical Gradient, Right-Analytical Gradient)\n",
      "\n",
      "If your backpropagation implementation is correct, then \n",
      "the relative difference will be small (less than 1e-9). \n",
      "\n",
      "Relative Difference : 2.15295e-11\n"
     ]
    }
   ],
   "metadata": {}
  },
  {
   "cell_type": "code",
   "execution_count": 20,
   "source": [
    "from checknn import *\n",
    "\n",
    "print('Checking Cost Function (w/ Regularization) ... ')\n",
    "J, g = nnCostFunction2(nn_params, input_layer_size, hidden_layer_size, output_layer_size, xn, y, lambda_)\n",
    "\n",
    "print(f'Cost at parameters (loaded from ex4weights): {J:f} \\n(this value should be about 1.776110)')\n",
    "g"
   ],
   "outputs": [
    {
     "output_type": "stream",
     "name": "stdout",
     "text": [
      "Checking Cost Function (w/ Regularization) ... \n",
      "Cost at parameters (loaded from ex4weights): 4.750065 \n",
      "(this value should be about 1.776110)\n"
     ]
    },
    {
     "output_type": "execute_result",
     "data": {
      "text/plain": [
       "array([-4.71288530e-02,  1.15842288e-05,  1.27618038e-03, -1.00906170e-03,\n",
       "        4.43930999e-02,  9.15343351e-04,  1.53670660e-03, -2.11333507e-03,\n",
       "        9.38017822e-03,  2.09403915e-04,  1.04677218e-03, -1.00886451e-03,\n",
       "        5.18981757e-03,  9.22723870e-05,  2.05542839e-05,  7.07695517e-05,\n",
       "       -1.96338116e-02, -7.96087057e-04, -9.13479209e-04,  1.72130288e-03,\n",
       "       -1.77325777e-02, -6.38499846e-04, -7.55967580e-04,  9.31852203e-04,\n",
       "        4.32034666e-01,  2.12340775e-01,  2.12607757e-01,  2.24529225e-01,\n",
       "        2.18576220e-01,  2.19125262e-01,  2.26178311e-01,  4.06260453e-01,\n",
       "        1.99690454e-01,  1.99071151e-01,  2.11055358e-01,  2.06377605e-01,\n",
       "        2.05257600e-01,  2.12513021e-01,  3.65839437e-01,  1.82450288e-01,\n",
       "        1.78957503e-01,  1.91092464e-01,  1.86117909e-01,  1.84389365e-01,\n",
       "        1.91239587e-01,  4.82509357e-01,  2.36992252e-01,  2.36550711e-01,\n",
       "        2.50562969e-01,  2.44908984e-01,  2.43893424e-01,  2.52649411e-01,\n",
       "       -1.48695011e-01, -7.69595532e-02, -7.33939901e-02, -7.89232797e-02,\n",
       "       -7.52065890e-02, -7.53717479e-02, -7.73704650e-02,  4.21182966e-01,\n",
       "        2.06930240e-01,  2.06471211e-01,  2.18751678e-01,  2.13766838e-01,\n",
       "        2.12889456e-01,  2.20531164e-01,  4.93650243e-01,  2.42387636e-01,\n",
       "        2.41943026e-01,  2.56329691e-01,  2.50622899e-01,  2.49478932e-01,\n",
       "        2.58500619e-01])"
      ]
     },
     "metadata": {},
     "execution_count": 20
    }
   ],
   "metadata": {}
  },
  {
   "cell_type": "markdown",
   "source": [],
   "metadata": {}
  },
  {
   "cell_type": "code",
   "execution_count": 21,
   "source": [
    "print('Training Neural Network... ')\n",
    "\n",
    "#  Change the MaxIter to a larger value to see how more training helps.\n",
    "options = {'maxiter': 50, 'disp': True}\n",
    "\n",
    "#  You should also try different values of lambda\n",
    "lambda_ = 1;\n",
    "\n",
    "# Create \"short hand\" for the cost function to be minimized\n",
    "fun = lambda nn_params: nnCostFunction2(nn_params, input_layer_size, hidden_layer_size, output_layer_size, xn, y, lambda_)[0]\n",
    "jac = lambda nn_params: nnCostFunction2(nn_params, input_layer_size, hidden_layer_size, output_layer_size, xn, y, lambda_)[1]\n",
    "\n",
    "# Now, costFunction is a function that takes in only one argument (the neural network parameters)\n",
    "from scipy import optimize as opt\n",
    "res = opt.minimize(fun, nn_params, method='CG', jac=jac, options=options)\n",
    "nn_params = res.x\n",
    "cost = res.fun\n",
    "\n",
    "print(res.message)"
   ],
   "outputs": [
    {
     "output_type": "stream",
     "name": "stdout",
     "text": [
      "Training Neural Network... \n",
      "Warning: Maximum number of iterations has been exceeded.\n",
      "         Current function value: 1.776139\n",
      "         Iterations: 50\n",
      "         Function evaluations: 113\n",
      "         Gradient evaluations: 113\n",
      "Maximum number of iterations has been exceeded.\n"
     ]
    }
   ],
   "metadata": {}
  },
  {
   "cell_type": "code",
   "execution_count": 22,
   "source": [
    "# Obtain Theta1 and Theta2 back from nn_params\n",
    "Theta1 = nn_params[:hidden_layer_size * (input_layer_size + 1)].reshape((hidden_layer_size, input_layer_size + 1))\n",
    "Theta2 = nn_params[hidden_layer_size * (input_layer_size + 1):].reshape((output_layer_size, hidden_layer_size + 1))\n",
    "\n",
    "print(cost)"
   ],
   "outputs": [
    {
     "output_type": "stream",
     "name": "stdout",
     "text": [
      "1.7761103659320405\n"
     ]
    }
   ],
   "metadata": {}
  },
  {
   "cell_type": "code",
   "execution_count": 23,
   "source": [
    "pred = predict(Theta1, Theta2, X)\n",
    "\n",
    "print(f'Training Set Accuracy: {(pred == y).mean() * 100:f}')"
   ],
   "outputs": [
    {
     "output_type": "stream",
     "name": "stdout",
     "text": [
      "Training Set Accuracy: 65.427928\n"
     ]
    }
   ],
   "metadata": {}
  }
 ],
 "metadata": {
  "orig_nbformat": 4,
  "language_info": {
   "name": "python",
   "version": "3.9.6",
   "mimetype": "text/x-python",
   "codemirror_mode": {
    "name": "ipython",
    "version": 3
   },
   "pygments_lexer": "ipython3",
   "nbconvert_exporter": "python",
   "file_extension": ".py"
  },
  "kernelspec": {
   "name": "python3",
   "display_name": "Python 3.9.6 64-bit"
  },
  "interpreter": {
   "hash": "aee8b7b246df8f9039afb4144a1f6fd8d2ca17a180786b69acc140d282b71a49"
  }
 },
 "nbformat": 4,
 "nbformat_minor": 2
}