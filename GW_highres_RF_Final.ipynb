{
  "nbformat": 4,
  "nbformat_minor": 0,
  "metadata": {
    "colab": {
      "name": "GW_highres_RF_Final.ipynb",
      "provenance": [],
      "mount_file_id": "1BiTIbDGyYeBlqngBJBn0mOiQmVXzj02l",
      "authorship_tag": "ABX9TyOrSWxe48ep41GwXMHdAT7/",
      "include_colab_link": true
    },
    "kernelspec": {
      "name": "python3",
      "display_name": "Python 3"
    },
    "language_info": {
      "name": "python"
    }
  },
  "cells": [
    {
      "cell_type": "markdown",
      "metadata": {
        "id": "view-in-github",
        "colab_type": "text"
      },
      "source": [
        "<a href=\"https://colab.research.google.com/github/am610/machinelearning/blob/master/GW_highres_RF_Final.ipynb\" target=\"_parent\"><img src=\"https://colab.research.google.com/assets/colab-badge.svg\" alt=\"Open In Colab\"/></a>"
      ]
    },
    {
      "cell_type": "markdown",
      "source": [
        "##### @Ayan Mitra\n",
        "##### 2022"
      ],
      "metadata": {
        "id": "P3qmDqiaT3nY"
      }
    },
    {
      "cell_type": "code",
      "source": [
        "import pandas as pd\n",
        "import matplotlib.pyplot as plt\n",
        "import numpy as np\n",
        "import scipy\n",
        "import os\n",
        "import io\n",
        "from sklearn.metrics import accuracy_score\n",
        "from sklearn.datasets import make_classification\n",
        "from sklearn.model_selection import cross_val_score\n",
        "from sklearn.model_selection import RepeatedStratifiedKFold\n",
        "from sklearn.model_selection import KFold, train_test_split, cross_val_score, cross_val_predict, GridSearchCV \n",
        "from sklearn.metrics import confusion_matrix, precision_score, recall_score, f1_score, classification_report\n",
        "from sklearn.decomposition import PCA, IncrementalPCA\n",
        "from matplotlib.backends.backend_pdf import PdfPages\n",
        "from matplotlib.colors import LogNorm,Normalize\n",
        "from matplotlib.ticker import (MultipleLocator, FormatStrFormatter,AutoMinorLocator)\n",
        "import scipy.fftpack\n",
        "#import hampel\n",
        "import random\n",
        "import sklearn\n",
        "import pandas\n",
        "from keras.models import Sequential\n",
        "from keras.layers import Dense\n",
        "from keras.wrappers.scikit_learn import KerasClassifier\n",
        "from keras.utils import np_utils\n",
        "from sklearn.model_selection import cross_val_score\n",
        "from sklearn.model_selection import KFold\n",
        "from sklearn.preprocessing import LabelEncoder\n",
        "from sklearn.pipeline import Pipeline\n",
        "from collections import Counter\n",
        "from sklearn.metrics import classification_report, confusion_matrix\n",
        "from sklearn.preprocessing import StandardScaler\n",
        "#from sklearn.model_selection import train_test_split\n",
        "from sklearn.preprocessing import LabelEncoder\n",
        "from tensorflow.keras import Sequential\n",
        "from tensorflow.keras.layers import Dense\n",
        "from scipy.interpolate import interp1d\n",
        "from sklearn.model_selection import train_test_split\n",
        "from sklearn.datasets import make_classification\n",
        "from sklearn.linear_model import LogisticRegression\n",
        "from sklearn.ensemble import GradientBoostingClassifier\n",
        "from xgboost import XGBClassifier\n",
        "# evaluate multinomial logistic regression model\n",
        "from numpy import mean\n",
        "from numpy import std\n",
        "from sklearn.datasets import make_classification\n",
        "from sklearn.model_selection import cross_val_score\n",
        "from sklearn.model_selection import RepeatedStratifiedKFold\n",
        "import warnings\n",
        "warnings.filterwarnings('ignore')\n",
        "import sys\n",
        "import seaborn as sns\n",
        "from pylab import *\n",
        "import matplotlib.pyplot as mpl\n",
        "from scipy import interpolate\n",
        "from numpy.fft import rfft, rfftfreq\n",
        "import matplotlib.pyplot as plt\n",
        "from scipy.ndimage import median_filter\n",
        "from sklearn.metrics import accuracy_score\n",
        "from sklearn.datasets import make_classification\n",
        "from sklearn.model_selection import cross_val_score\n",
        "from sklearn.model_selection import RepeatedStratifiedKFold\n",
        "from sklearn.ensemble import RandomForestClassifier\n",
        "from matplotlib import pyplot\n",
        "from sklearn.decomposition import PCA\n",
        "\n",
        "column = ['t','orig_w','filt_w','smt_w']"
      ],
      "metadata": {
        "id": "Vw6M9EsBwTux"
      },
      "execution_count": 1,
      "outputs": []
    },
    {
      "cell_type": "code",
      "execution_count": 2,
      "metadata": {
        "colab": {
          "base_uri": "https://localhost:8080/"
        },
        "id": "tXQJA0JWvGAA",
        "outputId": "d05173ce-bb23-4073-f4cd-6a0a481b7377"
      },
      "outputs": [
        {
          "output_type": "stream",
          "name": "stdout",
          "text": [
            "Drive already mounted at /content/drive; to attempt to forcibly remount, call drive.mount(\"/content/drive\", force_remount=True).\n"
          ]
        }
      ],
      "source": [
        "from google.colab import drive\n",
        "drive.mount('/content/drive')"
      ]
    },
    {
      "cell_type": "code",
      "source": [
        "def plot(i):\n",
        "  plt.plot(Time.iloc[i],Signal.iloc[i],'.',label='%s'%i)\n",
        "  plt.legend()\n",
        "  plt.show()\n",
        "  plt.close()"
      ],
      "metadata": {
        "id": "-ZQQpRyrB2_k"
      },
      "execution_count": 3,
      "outputs": []
    },
    {
      "cell_type": "code",
      "source": [
        "a = pd.read_csv('drive/MyDrive/ML_Data2.csv')\n",
        "a.drop([50], axis=0, inplace=True)\n",
        "a = a.iloc[:, 1:]\n",
        "Label= a.iloc[:, -1]\n",
        "\n",
        "\n",
        "Time = a.iloc[:,:10000]\n",
        "Signal = a.iloc[:, 10000:-1]\n",
        "a = a.iloc[:,:-1]\n",
        "\n",
        "label0 = []\n",
        "label1 = []\n",
        "label2 = []\n",
        "\n",
        "for i in Label:\n",
        "    label0.append(i[1:3])\n",
        "    label1.append(i[3:6])\n",
        "    label2.append(i[6:])\n"
      ],
      "metadata": {
        "id": "h_auxv0TvKrt"
      },
      "execution_count": 4,
      "outputs": []
    },
    {
      "cell_type": "code",
      "source": [
        "T = Time.iloc[:,1500:5500]\n",
        "S = Signal.iloc[:,1500:5500]\n",
        "\n",
        "TX = []\n",
        "TY = []\n",
        "xnew = pd.Series(np.linspace(-2.0,+6.0,10000, endpoint=True))\n",
        "for i in range(209):\n",
        "  tx = T.iloc[i]\n",
        "  ty = S.iloc[i]\n",
        "  f1 = interp1d(tx,ty, kind='cubic',fill_value=\"extrapolate\")\n",
        "  ynew = pd.Series(f1(xnew))\n",
        "  TX.append(xnew)\n",
        "  TY.append(ynew)\n",
        "TS = pd.concat([pd.DataFrame(TX),pd.DataFrame(TY)],axis=1)\n",
        "a = TS"
      ],
      "metadata": {
        "id": "zX36s5TZapur"
      },
      "execution_count": 5,
      "outputs": []
    },
    {
      "cell_type": "code",
      "source": [
        "plt.plot(Time.iloc[0,1500:5500],Signal.iloc[0,1500:5500],'.',label='0')\n",
        "plt.plot(T.iloc[0],S.iloc[0])"
      ],
      "metadata": {
        "colab": {
          "base_uri": "https://localhost:8080/",
          "height": 282
        },
        "id": "WHxr9-zS6nsS",
        "outputId": "7ef28ab6-55e2-4de8-a1d0-cb65138a007a"
      },
      "execution_count": 6,
      "outputs": [
        {
          "output_type": "execute_result",
          "data": {
            "text/plain": [
              "[<matplotlib.lines.Line2D at 0x7fe44fe37310>]"
            ]
          },
          "metadata": {},
          "execution_count": 6
        },
        {
          "output_type": "display_data",
          "data": {
            "text/plain": [
              "<Figure size 432x288 with 1 Axes>"
            ],
            "image/png": "[encoded data removed]"
          },
          "metadata": {
            "needs_background": "light"
          }
        }
      ]
    },
    {
      "cell_type": "markdown",
      "source": [
        "#### https://wellsr.com/python/python-pca-examples-with-sklearn/"
      ],
      "metadata": {
        "id": "iUJHydV_u0NB"
      }
    },
    {
      "cell_type": "code",
      "source": [
        "X = a\n",
        "y = np.array(label0).ravel()\n",
        "y = (y[:]).astype(int)\n",
        "X_train, X_test, y_train, y_test = train_test_split(X, y, test_size = 0.1, shuffle = True, random_state=0)"
      ],
      "metadata": {
        "id": "_CCD3UTOKiS8"
      },
      "execution_count": 7,
      "outputs": []
    },
    {
      "cell_type": "code",
      "source": [
        "acc = []\n",
        "for nc in range(25,27):\n",
        "  for ne in range(57,60):\n",
        "    pca_model = PCA(n_components=nc) #120\n",
        "    X_train_pca = pca_model.fit_transform(X_train)\n",
        "    X_test_pca = pca_model.transform(X_test)\n",
        "    model = RandomForestClassifier(n_estimators=ne, random_state=0) # 100\n",
        "    model.fit(X_train_pca, y_train)\n",
        "    y_pred = model.predict(X_test_pca)\n",
        "    tmp = [nc,ne,accuracy_score(y_test, y_pred)]\n",
        "    if (accuracy_score(y_test, y_pred)>0.8):\n",
        "      print(nc,ne,accuracy_score(y_test, y_pred) )\n",
        "      acc.append(tmp)\n",
        "acc = pd.DataFrame(acc)\n",
        "acc2 = acc[(acc[2] > 0.8)]\n",
        "plt.plot(pd.DataFrame(acc2).iloc[:,0],pd.DataFrame(acc2).iloc[:,2],'o',\n",
        "         label='%s'%(pd.DataFrame(acc2).iloc[:,1]))\n",
        "plt.legend() \n",
        "#''';   "
      ],
      "metadata": {
        "id": "OZp98FRZuhmG",
        "colab": {
          "base_uri": "https://localhost:8080/",
          "height": 334
        },
        "outputId": "50355e9d-7a0d-4715-a66f-b97ba0d615db"
      },
      "execution_count": 24,
      "outputs": [
        {
          "output_type": "stream",
          "name": "stdout",
          "text": [
            "25 57 0.8095238095238095\n",
            "25 58 0.8571428571428571\n",
            "25 59 0.8095238095238095\n"
          ]
        },
        {
          "output_type": "execute_result",
          "data": {
            "text/plain": [
              "<matplotlib.legend.Legend at 0x7fe44ffb9e90>"
            ]
          },
          "metadata": {},
          "execution_count": 24
        },
        {
          "output_type": "display_data",
          "data": {
            "text/plain": [
              "<Figure size 432x288 with 1 Axes>"
            ],
            "image/png": "[encoded data removed]"
          },
          "metadata": {
            "needs_background": "light"
          }
        }
      ]
    },
    {
      "cell_type": "code",
      "source": [
        "print(nc,ne,accuracy_score(y_test, y_pred) )"
      ],
      "metadata": {
        "colab": {
          "base_uri": "https://localhost:8080/"
        },
        "id": "n8YZObJsZyoa",
        "outputId": "223ad725-1bfc-41ed-c192-40045071c397"
      },
      "execution_count": 9,
      "outputs": [
        {
          "output_type": "stream",
          "name": "stdout",
          "text": [
            "26 59 0.7142857142857143\n"
          ]
        }
      ]
    },
    {
      "cell_type": "code",
      "source": [
        "'''\n",
        "plt.plot(np.cumsum(pca_model.explained_variance_ratio_))\n",
        "plt.xlabel('number of components')\n",
        "plt.ylabel('cumulative explained variance')\n",
        "plt.show()\n",
        "''';"
      ],
      "metadata": {
        "id": "dz0hGVB--17Q"
      },
      "execution_count": 10,
      "outputs": []
    },
    {
      "cell_type": "code",
      "source": [
        "#1e-7+1"
      ],
      "metadata": {
        "id": "Wc5oQsxt-_7H"
      },
      "execution_count": 11,
      "outputs": []
    },
    {
      "cell_type": "code",
      "source": [
        "\n",
        "#'''\n",
        "# Doing a basic grid search with preliminary educated guesses as to which range\n",
        "# PCA and n_estimators were optimum\n",
        "bestc=0\n",
        "beste=0\n",
        "acc = []\n",
        "for nc in range(25,27):\n",
        "  for ne in range(57,60):\n",
        "    #print(nc,ne)\n",
        "    pca_model = PCA(n_components=nc) #120\n",
        "    X_train_pca = pca_model.fit_transform(X_train)\n",
        "    X_test_pca = pca_model.transform(X_test)\n",
        "    model = RandomForestClassifier(n_estimators=ne, random_state=0) # 100\n",
        "    model.fit(X_train_pca, y_train)\n",
        "    y_pred = model.predict(X_test_pca)\n",
        "    #print(nc, ne, accuracy_score(y_test, y_pred) )\n",
        "    if (accuracy_score(y_test, y_pred)>0.85):\n",
        "      print(nc, ne, accuracy_score(y_test, y_pred) )\n",
        "      bestc = nc;beste=ne;\n",
        "      break\n",
        "  if nc == bestc and ne == beste:\n",
        "    break       "
      ],
      "metadata": {
        "colab": {
          "base_uri": "https://localhost:8080/"
        },
        "id": "RKRgz9BGaTPd",
        "outputId": "ca771cda-ca1b-437e-be10-b172764e9ba7"
      },
      "execution_count": 12,
      "outputs": [
        {
          "output_type": "stream",
          "name": "stdout",
          "text": [
            "25 58 0.8571428571428571\n"
          ]
        }
      ]
    },
    {
      "cell_type": "code",
      "source": [
        "bestc"
      ],
      "metadata": {
        "colab": {
          "base_uri": "https://localhost:8080/"
        },
        "id": "qBBBxOkJdgJv",
        "outputId": "a3a279e1-3e4e-4929-c24e-e319511a34b2"
      },
      "execution_count": 13,
      "outputs": [
        {
          "output_type": "execute_result",
          "data": {
            "text/plain": [
              "25"
            ]
          },
          "metadata": {},
          "execution_count": 13
        }
      ]
    },
    {
      "cell_type": "code",
      "source": [
        "ne"
      ],
      "metadata": {
        "colab": {
          "base_uri": "https://localhost:8080/"
        },
        "id": "hMPTlNXbdh3w",
        "outputId": "b221296f-1f4f-4607-b598-a94f80cabb51"
      },
      "execution_count": 14,
      "outputs": [
        {
          "output_type": "execute_result",
          "data": {
            "text/plain": [
              "58"
            ]
          },
          "metadata": {},
          "execution_count": 14
        }
      ]
    },
    {
      "cell_type": "code",
      "source": [
        "pca_data = [bestc,beste]\n",
        "#np.savetxt(\"drive/MyDrive/GW_PCA_confi_highres.csv\", pca_data)"
      ],
      "metadata": {
        "id": "m1iZdDynwpBy"
      },
      "execution_count": 15,
      "outputs": []
    },
    {
      "cell_type": "code",
      "source": [
        "y_test"
      ],
      "metadata": {
        "colab": {
          "base_uri": "https://localhost:8080/"
        },
        "id": "X5vkgHDmw0EJ",
        "outputId": "dacf0e8d-8109-4dd9-a3fb-6c07ce99b257"
      },
      "execution_count": 16,
      "outputs": [
        {
          "output_type": "execute_result",
          "data": {
            "text/plain": [
              "array([12, 27, 12, 12, 75, 27, 40, 40, 27, 40, 12, 40, 27, 75, 27, 27, 75,\n",
              "       12, 27, 12, 75])"
            ]
          },
          "metadata": {},
          "execution_count": 16
        }
      ]
    },
    {
      "cell_type": "code",
      "source": [
        "y_pred\n"
      ],
      "metadata": {
        "colab": {
          "base_uri": "https://localhost:8080/"
        },
        "id": "tFwNXCo5uhir",
        "outputId": "2b8a22a9-05d6-4d1e-9098-d8e8a1bf8ac9"
      },
      "execution_count": 17,
      "outputs": [
        {
          "output_type": "execute_result",
          "data": {
            "text/plain": [
              "array([27, 27, 12, 12, 75, 27, 40, 40, 27, 40, 12, 40, 27, 75, 12, 27, 75,\n",
              "       12, 40, 12, 75])"
            ]
          },
          "metadata": {},
          "execution_count": 17
        }
      ]
    },
    {
      "cell_type": "code",
      "source": [
        "c = 0\n",
        "for i in range(21):\n",
        "  print('s',model.predict(np.reshape(X_test_pca[i,:],(1,bestc)))[0],'  s',y_test[i])\n",
        "  ch = model.predict(np.reshape(X_test_pca[i,:],(1,bestc)))[0]\n",
        "  if (ch == y_test[i]):\n",
        "    c +=1\n",
        "print('%.1f'%(c/i),'Fraction is correct')    "
      ],
      "metadata": {
        "colab": {
          "base_uri": "https://localhost:8080/"
        },
        "id": "M_2lwTrcF5R1",
        "outputId": "d9aaec1e-f992-42ae-d465-89111286d0cb"
      },
      "execution_count": 18,
      "outputs": [
        {
          "output_type": "stream",
          "name": "stdout",
          "text": [
            "s 27   s 12\n",
            "s 27   s 27\n",
            "s 12   s 12\n",
            "s 12   s 12\n",
            "s 75   s 75\n",
            "s 27   s 27\n",
            "s 40   s 40\n",
            "s 40   s 40\n",
            "s 27   s 27\n",
            "s 40   s 40\n",
            "s 12   s 12\n",
            "s 40   s 40\n",
            "s 27   s 27\n",
            "s 75   s 75\n",
            "s 12   s 27\n",
            "s 27   s 27\n",
            "s 75   s 75\n",
            "s 12   s 12\n",
            "s 40   s 27\n",
            "s 12   s 12\n",
            "s 75   s 75\n",
            "0.9 Fraction is correct\n"
          ]
        }
      ]
    },
    {
      "cell_type": "code",
      "source": [
        "import joblib\n",
        "filename = 'RF_GW_highres_PCA_model.sav'\n",
        "#joblib.dump(model,  'drive/MyDrive/'+filename )"
      ],
      "metadata": {
        "id": "LbJmy0QQvnDv"
      },
      "execution_count": 19,
      "outputs": []
    },
    {
      "cell_type": "code",
      "source": [
        "#done"
      ],
      "metadata": {
        "id": "ph6_UKOFJ5xh"
      },
      "execution_count": 20,
      "outputs": []
    },
    {
      "cell_type": "markdown",
      "source": [
        "# Read data and plot"
      ],
      "metadata": {
        "id": "apO-MziNR03z"
      }
    },
    {
      "cell_type": "code",
      "source": [
        "pca_input = genfromtxt('drive/MyDrive/GW_PCA_confi_highres.csv')\n",
        "pca_input[0]\n",
        "bestc = pca_input[0].astype(int)\n",
        "beste = pca_input[1].astype(int)\n",
        "filename = 'RF_GW_highres_PCA_model.sav'\n",
        "loaded_model = joblib.load('drive/MyDrive/'+filename)\n",
        "\n",
        "#@title\n",
        "a = pd.read_csv('drive/MyDrive/ML_Data2.csv')\n",
        "a.drop([45,55], axis=0, inplace=True)\n",
        "a = a.iloc[:, 1:]\n",
        "\n",
        "Label= a.iloc[:, -1]\n",
        "a = a.iloc[:,:-1]\n",
        "#print(np.shape(a))\n",
        "#'''\n",
        "label0 = []\n",
        "label1 = []\n",
        "label2 = []\n",
        "for i in Label:\n",
        "    #print(i[1:3])\n",
        "    label0.append(i[1:3])\n",
        "    label1.append(i[3:6])\n",
        "    label2.append(i[6:])\n",
        "X = a\n",
        "y = np.array(label0).ravel()\n",
        "y = (y[:]).astype(int)\n",
        "X_train, X_test, y_train, y_test = train_test_split(X, y, test_size = 0.1, shuffle = True, random_state=0)\n",
        "\n",
        "pca_model = PCA(n_components=pca_input[0].astype(int))\n",
        "X_train_pca = pca_model.fit_transform(X_train)\n",
        "X_test_pca = pca_model.transform(X_test)\n",
        "\n",
        "a = pd.read_csv('drive/MyDrive/ML_Data2.csv')\n",
        "a.drop([50], axis=0, inplace=True)\n",
        "a = a.iloc[:, 1:]\n",
        "Label= a.iloc[:, -1]\n",
        "a = a.iloc[:,:-1]\n",
        "Time = a.iloc[:,:10000]\n",
        "Signal = a.iloc[:, 10000:-1]\n",
        "\n",
        "#print(np.shape(a))\n",
        "#'''\n",
        "label0 = []\n",
        "label1 = []\n",
        "label2 = []\n",
        "for i in Label:\n",
        "    #print(i[1:3])\n",
        "    label0.append(i[1:3])\n",
        "    label1.append(i[3:6])\n",
        "    label2.append(i[6:])\n",
        "\n",
        "T = Time.iloc[:,1500:5500]\n",
        "S = Signal.iloc[:,1500:5500]\n",
        "TS = pd.concat([T,S],axis=1)\n",
        "#print(TS)\n",
        "gap = np.linspace(0,7999,8000).astype(int)\n",
        "TS.columns = gap\n",
        "a = TS\n",
        "\n",
        "#----------\n",
        "TX = []\n",
        "TY = []\n",
        "xnew = pd.Series(np.linspace(-2.0,+6.0,10000, endpoint=True))\n",
        "for i in range(209):\n",
        "  tx = T.iloc[i]\n",
        "  ty = S.iloc[i]\n",
        "  f1 = interp1d(tx,ty, kind='cubic',fill_value=\"extrapolate\")\n",
        "  ynew = pd.Series(f1(xnew))\n",
        "  TX.append(xnew)\n",
        "  TY.append(ynew)\n",
        "TS = pd.concat([pd.DataFrame(TX),pd.DataFrame(TY)],axis=1)\n",
        "a = TS    \n",
        "X = a\n",
        "y = np.array(label0).ravel()\n",
        "y = (y[:]).astype(int)\n",
        "X_train, X_test, y_train, y_test = train_test_split(X, y, test_size = 0.1, shuffle = True, random_state=0)\n",
        "\n",
        "pca_model = PCA(n_components=pca_input[0].astype(int))\n",
        "X_train_pca = pca_model.fit_transform(X_train)\n",
        "X_test_pca = pca_model.transform(X_test)\n",
        "\n",
        "y_pred = loaded_model.predict(X_test_pca)\n",
        "y_pred_train = loaded_model.predict(X_train_pca)\n"
      ],
      "metadata": {
        "id": "Cg-bB3U4R2yB"
      },
      "execution_count": 25,
      "outputs": []
    },
    {
      "cell_type": "code",
      "source": [
        "Time = a.iloc[:,:10000]\n",
        "\n",
        "Signal = a.iloc[:, 10000:]\n",
        "\n",
        "i = 4\n",
        "plt.rcParams['figure.figsize'] = [10,3]\n",
        "\n",
        "for j in range(30):\n",
        "    plt.plot(Time.iloc[j],Signal.iloc[j],'.',color = (1, j / 30.0, 0, 0.5),alpha=0.009)\n",
        "#plt.xlim(-1,1)\n",
        "plt.plot(Time.iloc[i],Signal.iloc[i],'.',c='black',markersize=1)\n",
        "plt.xlabel('Time $ms$')\n",
        "plt.ylabel('Signal')\n",
        "#plt.grid()\n",
        "plt.show()\n",
        "\n",
        "plt.plot(Time.iloc[10],Signal.iloc[101],'.')\n",
        "plt.xlabel('Time')\n",
        "plt.ylabel('GW-Signal')"
      ],
      "metadata": {
        "colab": {
          "base_uri": "https://localhost:8080/",
          "height": 452
        },
        "id": "BiAWZAj_SevA",
        "outputId": "02db205c-4137-4964-8ea6-83f9a04b54d8"
      },
      "execution_count": 32,
      "outputs": [
        {
          "output_type": "display_data",
          "data": {
            "text/plain": [
              "<Figure size 720x216 with 1 Axes>"
            ],
            "image/png": "[encoded data removed]"
          },
          "metadata": {
            "needs_background": "light"
          }
        },
        {
          "output_type": "execute_result",
          "data": {
            "text/plain": [
              "Text(0, 0.5, 'GW-Signal')"
            ]
          },
          "metadata": {},
          "execution_count": 32
        },
        {
          "output_type": "display_data",
          "data": {
            "text/plain": [
              "<Figure size 720x216 with 1 Axes>"
            ],
            "image/png": "[encoded data removed]"
          },
          "metadata": {
            "needs_background": "light"
          }
        }
      ]
    },
    {
      "cell_type": "code",
      "source": [
        "model = loaded_model\n",
        "c = 0\n",
        "for i in range(21):\n",
        "  print('s',model.predict(np.reshape(X_test_pca[i,:],(1,bestc)))[0],'  s',y_test[i])\n",
        "  ch = model.predict(np.reshape(X_test_pca[i,:],(1,bestc)))[0]\n",
        "  if (ch == y_test[i]):\n",
        "    c +=1\n",
        "print('%.1f'%(c/i),'Fraction is correct')   \n",
        "\n",
        "print('F1 accuracy: %.1f'%(f1_score(y_pred, y_test, average='macro')))\n",
        "\n",
        "print(loaded_model.classes_)"
      ],
      "metadata": {
        "colab": {
          "base_uri": "https://localhost:8080/"
        },
        "id": "m6DCkqMwSKrX",
        "outputId": "98b40517-bb9e-433b-d39d-a4dd1e04e04c"
      },
      "execution_count": 27,
      "outputs": [
        {
          "output_type": "stream",
          "name": "stdout",
          "text": [
            "s 27   s 12\n",
            "s 27   s 27\n",
            "s 12   s 12\n",
            "s 12   s 12\n",
            "s 75   s 75\n",
            "s 27   s 27\n",
            "s 40   s 40\n",
            "s 40   s 40\n",
            "s 27   s 27\n",
            "s 40   s 40\n",
            "s 12   s 12\n",
            "s 40   s 40\n",
            "s 27   s 27\n",
            "s 75   s 75\n",
            "s 12   s 27\n",
            "s 27   s 27\n",
            "s 75   s 75\n",
            "s 12   s 12\n",
            "s 40   s 27\n",
            "s 12   s 12\n",
            "s 75   s 75\n",
            "0.9 Fraction is correct\n",
            "F1 accuracy: 0.9\n",
            "[12 27 40 75]\n"
          ]
        }
      ]
    },
    {
      "cell_type": "code",
      "source": [
        "#@title\n",
        "import sklearn.metrics as skm\n",
        "print('----------------')\n",
        "print('Test Data ')\n",
        "print('----------------')\n",
        "print(skm.classification_report( y_test , y_pred ))\n",
        "print('----------------')\n",
        "print('Train Data')\n",
        "print('----------------')\n",
        "print(skm.classification_report( y_train , y_pred_train ))"
      ],
      "metadata": {
        "colab": {
          "base_uri": "https://localhost:8080/"
        },
        "id": "fEaq5oRBSLL1",
        "outputId": "28123e9a-b2b3-450d-dadc-f8c29a20207b"
      },
      "execution_count": 28,
      "outputs": [
        {
          "output_type": "stream",
          "name": "stdout",
          "text": [
            "----------------\n",
            "Test Data \n",
            "----------------\n",
            "              precision    recall  f1-score   support\n",
            "\n",
            "          12       0.83      0.83      0.83         6\n",
            "          27       0.83      0.71      0.77         7\n",
            "          40       0.80      1.00      0.89         4\n",
            "          75       1.00      1.00      1.00         4\n",
            "\n",
            "    accuracy                           0.86        21\n",
            "   macro avg       0.87      0.89      0.87        21\n",
            "weighted avg       0.86      0.86      0.85        21\n",
            "\n",
            "----------------\n",
            "Train Data\n",
            "----------------\n",
            "              precision    recall  f1-score   support\n",
            "\n",
            "          12       1.00      1.00      1.00        46\n",
            "          27       1.00      1.00      1.00        45\n",
            "          40       1.00      1.00      1.00        49\n",
            "          75       1.00      1.00      1.00        48\n",
            "\n",
            "    accuracy                           1.00       188\n",
            "   macro avg       1.00      1.00      1.00       188\n",
            "weighted avg       1.00      1.00      1.00       188\n",
            "\n"
          ]
        }
      ]
    },
    {
      "cell_type": "code",
      "source": [
        "#@title\n",
        "def cm_analysis(y_true, y_pred, labels, ymap=None, figsize=(4,4)):\n",
        "    \"\"\"\n",
        "    Generate matrix plot of confusion matrix with pretty annotations.\n",
        "    The plot image is saved to disk.\n",
        "    args: \n",
        "      y_true:    true label of the data, with shape (nsamples,)\n",
        "      y_pred:    prediction of the data, with shape (nsamples,)\n",
        "      filename:  filename of figure file to save\n",
        "      labels:    string array, name the order of class labels in the confusion matrix.\n",
        "                 use `clf.classes_` if using scikit-learn models.\n",
        "                 with shape (nclass,).\n",
        "      ymap:      dict: any -> string, length == nclass.\n",
        "                 if not None, map the labels & ys to more understandable strings.\n",
        "                 Caution: original y_true, y_pred and labels must align.\n",
        "      figsize:   the size of the figure plotted.\n",
        "    \"\"\"\n",
        "    if ymap is not None:\n",
        "        y_pred = [ymap[yi] for yi in y_pred]\n",
        "        y_true = [ymap[yi] for yi in y_true]\n",
        "        labels = [ymap[yi] for yi in labels]\n",
        "    cm = confusion_matrix(y_true, y_pred, labels=labels)\n",
        "    cm_sum = np.sum(cm, axis=1, keepdims=True)\n",
        "    cm_perc = cm / cm_sum.astype(float) * 100\n",
        "    annot = np.empty_like(cm).astype(str)\n",
        "    nrows, ncols = cm.shape\n",
        "    for i in range(nrows):\n",
        "        for j in range(ncols):\n",
        "            c = cm[i, j]\n",
        "            p = cm_perc[i, j]\n",
        "            if i == j:\n",
        "                s = cm_sum[i]\n",
        "                annot[i, j] = '%.1f%%\\n%d/%d' % (p, c, s)\n",
        "            elif c == 0:\n",
        "                annot[i, j] = ''\n",
        "            else:\n",
        "                annot[i, j] = '%.1f%%\\n%d' % (p, c)\n",
        "    cm = pd.DataFrame(cm, index=labels, columns=labels)\n",
        "    cm.index.name = 'Actual'\n",
        "    cm.columns.name = 'Predicted'\n",
        "    fig, ax = plt.subplots(figsize=figsize)\n",
        "    sns.heatmap(cm, annot=annot, fmt='', ax=ax,cmap=\"viridis\")\n",
        "    #plt.savefig(filename)\n",
        "    plt.show()\n",
        "\n",
        "cm_analysis(y_test, y_pred, loaded_model.classes_, ymap=None, figsize=(5,4))"
      ],
      "metadata": {
        "colab": {
          "base_uri": "https://localhost:8080/",
          "height": 283
        },
        "id": "JNQ5I5XRSU60",
        "outputId": "9f3e973a-0454-4b8a-e636-9c40620fe61d"
      },
      "execution_count": 29,
      "outputs": [
        {
          "output_type": "display_data",
          "data": {
            "text/plain": [
              "<Figure size 360x288 with 2 Axes>"
            ],
            "image/png": "[encoded data removed]"
          },
          "metadata": {
            "needs_background": "light"
          }
        }
      ]
    },
    {
      "cell_type": "code",
      "source": [
        ""
      ],
      "metadata": {
        "id": "k7ypzfS-SaUu"
      },
      "execution_count": null,
      "outputs": []
    }
  ]
}